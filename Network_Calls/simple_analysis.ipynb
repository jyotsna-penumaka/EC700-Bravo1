{
 "cells": [
  {
   "cell_type": "code",
   "execution_count": 120,
   "metadata": {},
   "outputs": [],
   "source": [
    "import numpy as np\n",
    "import pandas as pd\n",
    "import dill as pickle\n",
    "from collections import defaultdict\n",
    "import csv  # imports the csv module\n",
    "import sys  # imports the sys module\n",
    "import os\n",
    "import timeit\n",
    "import random\n",
    "import copy"
   ]
  },
  {
   "cell_type": "code",
   "execution_count": 121,
   "metadata": {},
   "outputs": [],
   "source": [
    "def validIP(address):  # Check if value is an ip address\n",
    "    parts = address.split(\".\")\n",
    "    if len(parts) != 4:\n",
    "        return False\n",
    "    for item in parts:\n",
    "        if not 0 <= int(item) <= 255:\n",
    "            return False\n",
    "    return True"
   ]
  },
  {
   "cell_type": "code",
   "execution_count": 122,
   "metadata": {},
   "outputs": [
    {
     "name": "stdout",
     "output_type": "stream",
     "text": [
      "['192.168.2.112', '198.164.30.2', '192.168.2.113', '192.168.2.112', '147.32.84.180', '147.32.84.140', '10.0.2.15', '172.16.253.130', '172.16.253.240', '192.168.3.35', '172.29.0.116', '192.168.248.165', '131.202.243.84', '192.168.2.110', '192.168.1.103', '192.168.2.109', '147.32.84.170', '147.32.84.130', '192.168.106.141', '172.16.253.131', '74.78.117.238', '192.168.3.25', '172.29.0.109', '10.37.130.4', '192.168.5.122', '192.168.4.118', '192.168.4.120', '192.168.2.105', '147.32.84.150', '147.32.84.160', '192.168.106.131', '172.16.253.129', '158.65.110.24', '192.168.3.65', '172.16.253.132']\n"
     ]
    }
   ],
   "source": [
    "malIPS=[]\n",
    "aa=open(\"maliciousips.txt\")\n",
    "for a in aa:\n",
    "    a=a.rstrip()\n",
    "    malIPS.append(a)\n",
    "print(malIPS)"
   ]
  },
  {
   "cell_type": "code",
   "execution_count": 123,
   "metadata": {},
   "outputs": [],
   "source": [
    "all_lens=[]\n",
    "from collections import defaultdict \n"
   ]
  },
  {
   "cell_type": "code",
   "execution_count": 124,
   "metadata": {},
   "outputs": [],
   "source": [
    "mal_lengths=[]\n",
    "beingn_lengths=[]\n",
    "mal=0\n",
    "nonmal=0"
   ]
  },
  {
   "cell_type": "code",
   "execution_count": 125,
   "metadata": {},
   "outputs": [],
   "source": [
    "mal_flows = []\n",
    "benign_flows=[]"
   ]
  },
  {
   "cell_type": "code",
   "execution_count": 111,
   "metadata": {},
   "outputs": [],
   "source": [
    "def readLogs():\n",
    "    n_flows = [10]\n",
    "    cols = ['ts','uid','orig_h','id.orig_p','resp_h','id.resp_p','proto','service','duration','orig_bytes','resp_bytes','conn_state','local_orig','local_resp','missed_bytes','history','orig_pkts','orig_ip_bytes','resp_pkts','resp_ip_bytes','tunnel_parents']\n",
    "    data = pd.read_csv('ICSX/testDset.log' , sep = '\\t', skiprows=8, names = cols)  #prev : test_conn.log\n",
    "    data.drop(data.tail(1).index,inplace=True) \n",
    "    newCol = data[['proto','service','conn_state']].apply(\n",
    "             lambda x: '|'.join(map(str, x)), axis=1)\n",
    "    data['state_proto_service'] = newCol\n",
    "    unique_IPs = list(set(data['orig_h']))\n",
    "    cleaned_unique_IPs = []\n",
    "    for address in unique_IPs:\n",
    "        if validIP(address):\n",
    "            cleaned_unique_IPs.append(address)\n",
    "    nonmal=0\n",
    "    for ip in cleaned_unique_IPs:\n",
    "        result = data[(data.resp_h ==ip) | (data.orig_h ==ip)]\n",
    "        if ip in malIPS:\n",
    "            print(\"Mal\")\n",
    "        else:\n",
    "            #print(len(result))\n",
    "            if (len(result))<100:\n",
    "                    continue\n",
    "            nonmal=nonmal+1\n",
    "            n=1\n",
    "            list_df = [result[i:i+n] for i in range(0,result.shape[0],1)]\n",
    "            sigflow={}\n",
    "            cc=0\n",
    "            for item in list_df:\n",
    "            #        #print(item)\n",
    "                    #conn = list(item['conn_state'])\n",
    "                    ts=str(list(item[\"ts\"])[0])\n",
    "                    sig = list(item['state_proto_service'])[0]\n",
    "                    sigflow[ts]=sig\n",
    "                    #print(sig)\n",
    "                    #benign_flows[sig]=benign_flows[sig]+1\n",
    "            sigflowordered = {k : sigflow[k] for k in sorted(sigflow)}\n",
    "            benign_flows.append(list(sigflowordered.values()))\n",
    "    print(nonmal)\n",
    "    '''\n",
    "    all_sigs=[]\n",
    "    all_cons=[]    \n",
    "    n=5\n",
    "    list_df = [result[i:i+n] for i in range(0,result.shape[0],1)]\n",
    "    print(\"-----\")\n",
    "    for item in list_df:\n",
    "        conn = list(item['conn_state'])\n",
    "        sig = list(item['state_proto_service'])\n",
    "        print(sig)\n",
    "    '''\n",
    "    #print(dictmatrix_conn)\n",
    "    #print(dictmatrix_sig)\n",
    "    #print(all_cons)\n",
    "    #print(all)"
   ]
  },
  {
   "cell_type": "code",
   "execution_count": 130,
   "metadata": {},
   "outputs": [],
   "source": [
    "def readMultipleLogs():\n",
    "    n_flows = [10]\n",
    "    cols = ['ts','uid','orig_h','id.orig_p','resp_h','id.resp_p','proto','service','duration','orig_bytes','resp_bytes','conn_state','local_orig','local_resp','missed_bytes','history','orig_pkts','orig_ip_bytes','resp_pkts','resp_ip_bytes','tunnel_parents']\n",
    "    xx=open(\"MalwareTrafficAnalysis/MALREC/all_malrec_files.txt\")\n",
    "    mal=0\n",
    "    for x in xx:\n",
    "        x=x.rstrip()\n",
    "        data = pd.read_csv(\"MalwareTrafficAnalysis/MALREC/AllMalRecs/\"+x , sep = '\\t', skiprows=8, names = cols)\n",
    "        data.drop(data.tail(1).index,inplace=True) \n",
    "        newCol = data[['proto','service','conn_state']].apply(\n",
    "                 lambda x: '|'.join(map(str, x)), axis=1)\n",
    "        data['state_proto_service'] = newCol\n",
    "        unique_IPs = list(set(data['orig_h']))\n",
    "        cleaned_unique_IPs = []\n",
    "        for address in unique_IPs:\n",
    "            if validIP(address):\n",
    "                cleaned_unique_IPs.append(address)\n",
    "        nonmal=0\n",
    "        for ip in cleaned_unique_IPs:\n",
    "            result = data[(data.resp_h ==ip) | (data.orig_h ==ip)]\n",
    "            if 1:\n",
    "                mal=mal+1\n",
    "                if (len(result))<100:\n",
    "                    continue\n",
    "                #print(len(result))\n",
    "                all_lens.append(len(result))\n",
    "                n=1\n",
    "                list_df = [result[i:i+n] for i in range(0,result.shape[0],1)]\n",
    "                sigflow={}\n",
    "                cc=0\n",
    "                last_ts=\"\"\n",
    "                for item in list_df:\n",
    "                    #print(item)\n",
    "                #    conn = list(item['conn_state'])\n",
    "                    ts=str(list(item[\"ts\"])[0])\n",
    "                    sig = list(item['state_proto_service'])[0]\n",
    "                    sigflow[ts]=sig\n",
    "                    #print(sig)\n",
    "                    #mal_flows[sig]=mal_flows[sig]+1\n",
    "                #Reorder sigflow \n",
    "                sigflowordered = {k : sigflow[k] for k in sorted(sigflow)}\n",
    "                mal_flows.append(list(sigflowordered.values()))\n",
    "        #print(nonmal)\n",
    "    '''\n",
    "    all_sigs=[]\n",
    "    all_cons=[]    \n",
    "    n=5\n",
    "    list_df = [result[i:i+n] for i in range(0,result.shape[0],1)]\n",
    "    print(\"-----\")\n",
    "    for item in list_df:\n",
    "        conn = list(item['conn_state'])\n",
    "        sig = list(item['state_proto_service'])\n",
    "        print(sig)\n",
    "    '''\n",
    "    #print(dictmatrix_conn)\n",
    "    #print(dictmatrix_sig)\n",
    "    #print(all_cons)\n",
    "    #print(all)"
   ]
  },
  {
   "cell_type": "code",
   "execution_count": 131,
   "metadata": {},
   "outputs": [
    {
     "name": "stderr",
     "output_type": "stream",
     "text": [
      "/usr/local/lib/python3.8/site-packages/IPython/core/interactiveshell.py:3337: DtypeWarning: Columns (0) have mixed types.Specify dtype option on import or set low_memory=False.\n",
      "  if (await self.run_code(code, result,  async_=asy)):\n"
     ]
    }
   ],
   "source": [
    "readMultipleLogs()\n",
    "#print(\"Now Benign\")\n",
    "#readLogs()"
   ]
  },
  {
   "cell_type": "code",
   "execution_count": 106,
   "metadata": {},
   "outputs": [
    {
     "name": "stdout",
     "output_type": "stream",
     "text": [
      "['udp|-|S0', 'udp|-|S0', 'udp|-|S0', 'udp|-|S0', 'udp|-|S0', 'udp|-|S0', 'udp|-|S0', 'udp|-|S0', 'udp|-|S0', 'udp|-|S0', 'udp|-|S0', 'udp|-|S0', 'udp|-|S0', 'udp|-|S0', 'udp|-|S0', 'udp|-|S0', 'udp|-|S0', 'udp|-|S0', 'udp|-|S0', 'udp|-|S0', 'udp|-|S0', 'udp|-|S0', 'udp|-|S0', 'udp|-|S0', 'udp|-|S0', 'udp|-|S0', 'udp|-|S0', 'udp|-|S0', 'udp|-|S0', 'udp|-|S0', 'udp|-|S0', 'udp|-|S0', 'udp|-|S0', 'udp|-|S0', 'udp|-|S0', 'udp|-|S0', 'udp|-|S0', 'udp|-|S0', 'udp|-|S0', 'udp|-|S0', 'udp|-|S0', 'udp|-|S0', 'udp|-|S0', 'udp|-|S0', 'udp|-|S0', 'udp|-|S0', 'udp|-|S0', 'udp|-|S0', 'udp|-|S0', 'udp|-|S0', 'udp|-|S0', 'udp|-|S0', 'udp|-|S0', 'udp|-|S0', 'udp|-|S0', 'udp|-|S0', 'udp|-|S0', 'udp|-|S0', 'udp|-|S0', 'udp|-|S0', 'udp|-|S0', 'udp|-|S0', 'udp|-|S0', 'udp|-|S0', 'udp|-|S0', 'udp|-|S0', 'udp|-|S0', 'udp|-|S0', 'udp|-|S0', 'udp|-|S0', 'udp|-|S0', 'udp|-|S0', 'udp|-|S0', 'udp|-|S0', 'udp|-|S0', 'udp|-|S0', 'udp|-|S0', 'udp|-|S0', 'udp|-|S0', 'udp|-|S0', 'udp|-|S0', 'udp|-|S0', 'udp|-|S0', 'udp|-|S0', 'udp|-|S0', 'udp|-|S0', 'udp|-|S0', 'udp|-|S0', 'udp|-|S0', 'udp|-|S0', 'udp|-|S0', 'udp|-|S0', 'udp|-|S0', 'udp|-|S0', 'udp|-|S0', 'udp|-|S0', 'udp|-|S0', 'udp|-|S0', 'udp|-|S0', 'udp|-|S0', 'udp|-|S0', 'udp|-|S0', 'udp|-|S0', 'udp|-|S0', 'udp|-|S0', 'udp|-|S0', 'udp|-|S0', 'udp|-|S0', 'udp|-|S0', 'udp|-|S0', 'udp|-|S0', 'udp|-|S0', 'udp|-|S0', 'udp|-|S0', 'udp|-|S0', 'udp|-|S0', 'udp|-|S0', 'udp|-|S0', 'udp|-|S0', 'udp|-|S0', 'udp|-|S0', 'udp|-|S0', 'udp|-|S0', 'udp|-|S0', 'udp|-|S0', 'udp|-|S0', 'udp|-|S0', 'udp|-|S0', 'udp|-|S0', 'udp|-|S0', 'udp|-|S0', 'udp|-|S0', 'udp|-|S0', 'udp|-|S0', 'udp|-|S0', 'udp|-|S0', 'udp|-|S0', 'udp|-|S0', 'udp|-|S0', 'udp|-|S0', 'udp|-|S0', 'udp|-|S0', 'udp|-|S0', 'udp|-|S0', 'udp|-|S0', 'udp|-|S0', 'udp|-|S0', 'udp|-|S0', 'udp|-|S0', 'udp|-|S0', 'udp|-|S0', 'udp|-|S0', 'udp|-|S0', 'udp|-|S0', 'udp|-|S0', 'udp|-|S0', 'udp|-|S0', 'udp|-|S0', 'udp|-|S0', 'udp|-|S0', 'udp|-|S0', 'udp|-|S0', 'udp|-|S0', 'udp|-|S0', 'udp|-|S0', 'udp|-|S0', 'udp|-|S0', 'udp|-|S0', 'udp|-|S0', 'udp|-|S0', 'udp|-|S0', 'udp|-|S0', 'udp|-|S0', 'udp|-|S0', 'udp|-|S0', 'udp|-|S0', 'udp|-|S0', 'udp|-|S0', 'udp|-|S0', 'udp|-|S0', 'udp|-|S0', 'udp|-|S0', 'udp|-|S0', 'udp|-|S0', 'udp|-|S0', 'udp|-|S0', 'udp|-|S0', 'udp|-|S0', 'udp|-|S0', 'udp|-|S0', 'udp|-|S0', 'udp|-|S0', 'udp|-|S0', 'udp|-|S0', 'udp|-|S0', 'udp|-|S0', 'udp|-|S0', 'udp|-|S0', 'udp|-|S0', 'udp|-|S0', 'udp|-|S0', 'udp|-|S0', 'udp|-|S0', 'udp|-|S0', 'udp|-|S0', 'udp|-|S0', 'udp|-|S0', 'udp|-|S0', 'udp|-|S0', 'udp|-|S0', 'udp|-|S0', 'udp|-|S0', 'udp|-|S0', 'udp|-|S0', 'udp|-|S0', 'udp|-|S0', 'udp|-|S0', 'udp|-|S0', 'udp|-|S0', 'udp|-|S0', 'udp|-|S0', 'udp|-|S0', 'udp|-|S0', 'udp|-|S0', 'udp|-|S0', 'udp|-|S0', 'udp|-|S0', 'udp|-|S0', 'udp|-|S0', 'udp|-|S0', 'udp|-|S0', 'udp|-|S0', 'udp|-|S0', 'udp|-|S0', 'udp|-|S0', 'udp|-|S0', 'udp|-|S0', 'udp|-|S0', 'udp|-|S0', 'udp|-|S0', 'udp|-|S0', 'udp|-|S0', 'udp|-|S0', 'udp|-|S0', 'udp|-|S0', 'udp|-|S0', 'udp|-|S0', 'udp|-|S0', 'udp|-|S0', 'udp|-|S0', 'udp|-|S0', 'udp|-|S0', 'udp|-|S0', 'udp|-|S0', 'udp|-|S0', 'udp|-|S0', 'udp|-|S0', 'udp|-|S0', 'udp|-|S0', 'udp|-|S0', 'udp|-|S0', 'udp|-|S0', 'udp|-|S0', 'udp|-|S0', 'udp|-|S0', 'udp|-|S0', 'udp|-|S0', 'udp|-|S0', 'udp|-|S0', 'udp|-|S0', 'udp|-|S0', 'udp|-|S0', 'udp|-|S0', 'udp|-|S0', 'udp|-|S0', 'udp|-|S0', 'udp|-|S0', 'udp|-|S0', 'udp|-|S0', 'udp|-|S0', 'udp|-|S0', 'udp|-|S0', 'udp|-|S0', 'udp|-|S0', 'udp|-|S0', 'udp|-|S0', 'udp|-|S0', 'udp|-|S0', 'udp|-|S0', 'udp|-|S0', 'udp|-|S0', 'udp|-|S0', 'udp|-|S0', 'udp|-|S0', 'udp|-|S0', 'udp|-|S0', 'udp|-|S0', 'udp|-|S0', 'udp|-|S0', 'udp|-|S0', 'udp|-|S0', 'udp|-|S0', 'udp|-|S0', 'udp|-|S0', 'udp|-|S0', 'udp|-|S0', 'udp|-|S0']\n"
     ]
    }
   ],
   "source": [
    "print(benign_flows[0])"
   ]
  },
  {
   "cell_type": "code",
   "execution_count": 93,
   "metadata": {},
   "outputs": [],
   "source": [
    "#with open('filename','wb') as f: pickle.dump(arrayname, f)\n",
    "\n",
    "#with open('filename','rb') as f: arrayname1 = pickle.load(f)"
   ]
  },
  {
   "cell_type": "code",
   "execution_count": 132,
   "metadata": {},
   "outputs": [
    {
     "name": "stdout",
     "output_type": "stream",
     "text": [
      "160\n"
     ]
    }
   ],
   "source": [
    "print(len(mal_flows))"
   ]
  },
  {
   "cell_type": "code",
   "execution_count": 133,
   "metadata": {},
   "outputs": [],
   "source": [
    "'''\n",
    "import pickle\n",
    "with open('malr_sequences_v2','wb') as f:\n",
    "    pickle.dump(mal_flows,f)\n",
    "#with open('benign_sequences','wb') as f:\n",
    "#    pickle.dump(benign_flows,f)\n",
    "'''"
   ]
  },
  {
   "cell_type": "code",
   "execution_count": 156,
   "metadata": {},
   "outputs": [],
   "source": [
    "mals_seqs=[]\n",
    "with open('malrec_sequences_v2','rb') as f:\n",
    "    mals_seqs.extend(pickle.load(f))\n",
    "with open('mal_sequences_v2','rb') as f:\n",
    "    mals_seqs.extend(pickle.load(f))"
   ]
  },
  {
   "cell_type": "code",
   "execution_count": 157,
   "metadata": {},
   "outputs": [],
   "source": [
    "benign_seqs=[]\n",
    "with open(\"benign_sequences_v2\",'rb') as f:\n",
    "    benign_seqs=pickle.load(f)"
   ]
  },
  {
   "cell_type": "code",
   "execution_count": 158,
   "metadata": {},
   "outputs": [],
   "source": [
    "mals_calls=defaultdict(int)\n",
    "for seq in mals_seqs:\n",
    "    for item in seq:\n",
    "        mals_calls[item]+=1"
   ]
  },
  {
   "cell_type": "code",
   "execution_count": 159,
   "metadata": {},
   "outputs": [],
   "source": [
    "benign_calls=defaultdict(int)\n",
    "for seq in benign_seqs:\n",
    "    for item in seq:\n",
    "        benign_calls[item]+=1"
   ]
  },
  {
   "cell_type": "code",
   "execution_count": 160,
   "metadata": {},
   "outputs": [
    {
     "name": "stdout",
     "output_type": "stream",
     "text": [
      "36\n"
     ]
    }
   ],
   "source": [
    "print(len(benign_calls.keys()))"
   ]
  },
  {
   "cell_type": "code",
   "execution_count": 161,
   "metadata": {},
   "outputs": [],
   "source": [
    "all_calls=list(set(list(benign_calls.keys())+list(mals_calls.keys())))"
   ]
  },
  {
   "cell_type": "code",
   "execution_count": 162,
   "metadata": {},
   "outputs": [
    {
     "name": "stdout",
     "output_type": "stream",
     "text": [
      "65\n"
     ]
    }
   ],
   "source": [
    "print(len(all_calls))"
   ]
  },
  {
   "cell_type": "code",
   "execution_count": 165,
   "metadata": {},
   "outputs": [],
   "source": [
    "call_encoding={}\n",
    "for x in range(0,len(all_calls)):\n",
    "    call_encoding[all_calls[x]]=x"
   ]
  },
  {
   "cell_type": "code",
   "execution_count": 12,
   "metadata": {},
   "outputs": [],
   "source": [
    "def intersection(lst1, lst2): \n",
    "    return list(set(lst1) & set(lst2))"
   ]
  },
  {
   "cell_type": "code",
   "execution_count": 167,
   "metadata": {},
   "outputs": [],
   "source": [
    "##Most awkward part : do the refining "
   ]
  },
  {
   "cell_type": "code",
   "execution_count": 169,
   "metadata": {},
   "outputs": [
    {
     "name": "stdout",
     "output_type": "stream",
     "text": [
      "281\n"
     ]
    }
   ],
   "source": [
    "non_repeated_mals=[]\n",
    "for seq in mals_seqs:\n",
    "    last=\"\"\n",
    "    lxs=[]\n",
    "    for item in seq:\n",
    "        if item!=last:\n",
    "            lxs.append(item)\n",
    "            last=item\n",
    "    non_repeated_mals.append(lxs)\n",
    "print(len(non_repeated_mals))       "
   ]
  },
  {
   "cell_type": "code",
   "execution_count": 177,
   "metadata": {},
   "outputs": [
    {
     "name": "stdout",
     "output_type": "stream",
     "text": [
      "1647\n"
     ]
    }
   ],
   "source": [
    "non_repeated_benigns=[]\n",
    "for seq in benign_seqs:\n",
    "    last=\"\"\n",
    "    lxs=[]\n",
    "    for item in seq:\n",
    "        if item!=last:\n",
    "            lxs.append(item)\n",
    "            last=item\n",
    "    non_repeated_benigns.append(lxs)\n",
    "print(len(non_repeated_benigns))       "
   ]
  },
  {
   "cell_type": "code",
   "execution_count": 235,
   "metadata": {},
   "outputs": [],
   "source": [
    "def f(a):\n",
    "    length_a = len(a)\n",
    "    limit = 200\n",
    "    if length_a > limit:\n",
    "      a = a[:limit]\n",
    "    else:\n",
    "      for i in range(0,limit - length_a):\n",
    "        a.append(65)\n",
    "    return a"
   ]
  },
  {
   "cell_type": "code",
   "execution_count": 236,
   "metadata": {},
   "outputs": [],
   "source": [
    "max_clipping=200\n",
    "encoded_benigns=[]\n",
    "for long in non_repeated_benigns:\n",
    "    if len(long)<20:\n",
    "        continue\n",
    "    lx=[]\n",
    "    for item in long:\n",
    "        lx.append(call_encoding[item])\n",
    "    #Clip to 200 \n",
    "    lx=lx[0:200] #truncate\n",
    "    lx=f(lx) #clip\n",
    "    encoded_benigns.append(lx)"
   ]
  },
  {
   "cell_type": "code",
   "execution_count": 237,
   "metadata": {},
   "outputs": [],
   "source": [
    "encoded_mals=[]\n",
    "for long in non_repeated_mals:\n",
    "    if len(long)<20:\n",
    "        continue\n",
    "    lx=[]\n",
    "    for item in long:\n",
    "        lx.append(call_encoding[item])\n",
    "    lx=lx[0:200]\n",
    "    lx=f(lx)\n",
    "    encoded_mals.append(lx)"
   ]
  },
  {
   "cell_type": "code",
   "execution_count": 238,
   "metadata": {},
   "outputs": [],
   "source": [
    "X=[]\n",
    "Y=[]\n",
    "for item in encoded_benigns:\n",
    "    X.append(item)\n",
    "    Y.append(0)\n",
    "for item in encoded_mals:\n",
    "    X.append(item)\n",
    "    Y.append(1)"
   ]
  },
  {
   "cell_type": "code",
   "execution_count": 239,
   "metadata": {},
   "outputs": [],
   "source": [
    "with open('export_X','wb') as f:\n",
    "    pickle.dump(X,f)\n",
    "with open('export_Y','wb') as f:\n",
    "    pickle.dump(Y,f)"
   ]
  },
  {
   "cell_type": "code",
   "execution_count": 216,
   "metadata": {},
   "outputs": [],
   "source": [
    "from sklearn.model_selection import train_test_split"
   ]
  },
  {
   "cell_type": "code",
   "execution_count": 222,
   "metadata": {},
   "outputs": [],
   "source": [
    "X_train, X_test, Y_train, Y_test = train_test_split(\n",
    "...    X, Y, test_size=0.20, random_state=1000)"
   ]
  },
  {
   "cell_type": "code",
   "execution_count": 227,
   "metadata": {},
   "outputs": [],
   "source": [
    "import numpy as np\n",
    "X_train=np.asarray(X_train)\n",
    "X_test=np.asarray(X_test)\n",
    "Y_train=np.asarray(Y_train)\n",
    "Y_test=np.asarray(Y_test)"
   ]
  },
  {
   "cell_type": "code",
   "execution_count": 229,
   "metadata": {},
   "outputs": [],
   "source": [
    "import keras,tensorflow"
   ]
  },
  {
   "cell_type": "code",
   "execution_count": 234,
   "metadata": {},
   "outputs": [
    {
     "name": "stdout",
     "output_type": "stream",
     "text": [
      "{'tcp|-|REJ': 0, 'tcp|-|SH': 1, 'udp|-|SF': 2, 'tcp|smtp|RSTR': 3, 'udp|teredo|SF': 4, 'tcp|-|S3': 5, 'udp|dhcp|SF': 6, 'tcp|smtp|S2': 7, 'tcp|smb,gssapi|RSTR': 8, 'udp|ntp|SF': 9, 'tcp|gssapi|OTH': 10, 'tcp|http|S2': 11, 'tcp|smb|RSTR': 12, 'udp|dns|SHR': 13, 'tcp|-|SF': 14, 'tcp|ssl|RSTO': 15, 'tcp|http|RSTO': 16, 'tcp|dce_rpc,ntlm|OTH': 17, 'tcp|smtp|S3': 18, 'tcp|krb_tcp|RSTR': 19, 'tcp|http|SF': 20, 'udp|dhcp|SHR': 21, 'icmp|-|OTH': 22, 'udp|-|SHR': 23, 'tcp|dns|SF': 24, 'tcp|dce_rpc|SHR': 25, 'udp|dhcp|S0': 26, 'tcp|dce_rpc,smb,ntlm,gssapi|SF': 27, 'tcp|smtp|SF': 28, 'tcp|smtp,ssl|SF': 29, 'tcp|ssl|SF': 30, 'tcp|-|RSTO': 31, 'tcp|http|S3': 32, 'tcp|-|SHR': 33, 'tcp|ssl|S1': 34, 'tcp|smtp|S1': 35, 'tcp|ssl|RSTR': 36, 'tcp|dns|RSTR': 37, 'tcp|smtp,ssl|RSTO': 38, 'tcp|ssl|S2': 39, 'udp|ntp|S0': 40, 'tcp|http|S1': 41, 'tcp|-|S1': 42, 'tcp|dns|OTH': 43, 'tcp|irc|SH': 44, 'tcp|irc|OTH': 45, 'tcp|gssapi,smb,ntlm|SF': 46, 'tcp|-|RSTR': 47, 'tcp|-|S2': 48, 'tcp|gssapi,ntlm|OTH': 49, 'tcp|smb|RSTO': 50, 'udp|dns|SF': 51, 'udp|dns|S0': 52, 'tcp|smtp,http|SF': 53, 'tcp|ntlm|OTH': 54, 'tcp|-|RSTRH': 55, 'tcp|irc|S1': 56, 'tcp|-|S0': 57, 'tcp|ftp|OTH': 58, 'tcp|dce_rpc|OTH': 59, 'udp|-|S0': 60, 'tcp|ssl|S3': 61, 'tcp|smtp|RSTO': 62, 'tcp|-|OTH': 63, 'tcp|http|RSTR': 64}\n"
     ]
    }
   ],
   "source": [
    "print(call_encoding)"
   ]
  },
  {
   "cell_type": "code",
   "execution_count": null,
   "metadata": {},
   "outputs": [],
   "source": []
  }
 ],
 "metadata": {
  "kernelspec": {
   "display_name": "Python 3",
   "language": "python",
   "name": "python3"
  },
  "language_info": {
   "codemirror_mode": {
    "name": "ipython",
    "version": 3
   },
   "file_extension": ".py",
   "mimetype": "text/x-python",
   "name": "python",
   "nbconvert_exporter": "python",
   "pygments_lexer": "ipython3",
   "version": "3.8.5"
  }
 },
 "nbformat": 4,
 "nbformat_minor": 4
}
