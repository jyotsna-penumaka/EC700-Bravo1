{
 "cells": [
  {
   "cell_type": "code",
   "execution_count": 4,
   "metadata": {},
   "outputs": [
    {
     "name": "stderr",
     "output_type": "stream",
     "text": [
      "<ipython-input-4-0d3b6c591cf6>:4: DeprecationWarning: use setter for headless property instead of set_headless\n",
      "  fireFoxOptions.set_headless()\n",
      "<ipython-input-4-0d3b6c591cf6>:8: DeprecationWarning: use options instead of firefox_options\n",
      "  browser = webdriver.Firefox(firefox_options=fireFoxOptions)\n"
     ]
    },
    {
     "name": "stdout",
     "output_type": "stream",
     "text": [
      "Step 1\n",
      "Configured\n"
     ]
    }
   ],
   "source": [
    "from selenium import webdriver\n",
    "import json\n",
    "fireFoxOptions = webdriver.FirefoxOptions()\n",
    "fireFoxOptions.set_headless()\n",
    "fireFoxOptions.add_argument('--ignore-certificate-errors')\n",
    "print(\"Step 1\")\n",
    "print(\"Configured\")\n",
    "browser = webdriver.Firefox(firefox_options=fireFoxOptions)"
   ]
  },
  {
   "cell_type": "code",
   "execution_count": 5,
   "metadata": {},
   "outputs": [],
   "source": [
    "url=\"https://giantpanda.gtisc.gatech.edu/malrec/dataset/random.php\"\n",
    "#aa.write(\"6f860469-1e4e-4948-aa40-b2103e96d8a8\")\n"
   ]
  },
  {
   "cell_type": "code",
   "execution_count": null,
   "metadata": {
    "scrolled": true
   },
   "outputs": [
    {
     "name": "stderr",
     "output_type": "stream",
     "text": [
      "<ipython-input-6-ea4c51657731>:3: DeprecationWarning: use options instead of firefox_options\n",
      "  browser = webdriver.Firefox(firefox_options=fireFoxOptions)\n"
     ]
    },
    {
     "name": "stdout",
     "output_type": "stream",
     "text": [
      "6342c724-9a29-48d7-a724-a3416251835b\n"
     ]
    },
    {
     "name": "stderr",
     "output_type": "stream",
     "text": [
      "<ipython-input-6-ea4c51657731>:3: DeprecationWarning: use options instead of firefox_options\n",
      "  browser = webdriver.Firefox(firefox_options=fireFoxOptions)\n"
     ]
    },
    {
     "name": "stdout",
     "output_type": "stream",
     "text": [
      "793d87ac-cc46-4e35-b99f-298d1bd2fc03\n"
     ]
    },
    {
     "name": "stderr",
     "output_type": "stream",
     "text": [
      "<ipython-input-6-ea4c51657731>:3: DeprecationWarning: use options instead of firefox_options\n",
      "  browser = webdriver.Firefox(firefox_options=fireFoxOptions)\n"
     ]
    },
    {
     "name": "stdout",
     "output_type": "stream",
     "text": [
      "9a2bb8fe-17d0-4f91-81da-cb3a7618fbcc\n"
     ]
    },
    {
     "name": "stderr",
     "output_type": "stream",
     "text": [
      "<ipython-input-6-ea4c51657731>:3: DeprecationWarning: use options instead of firefox_options\n",
      "  browser = webdriver.Firefox(firefox_options=fireFoxOptions)\n"
     ]
    },
    {
     "name": "stdout",
     "output_type": "stream",
     "text": [
      "bf1bea41-1e4f-4119-a9e1-3aa071d9b7ce\n"
     ]
    },
    {
     "name": "stderr",
     "output_type": "stream",
     "text": [
      "<ipython-input-6-ea4c51657731>:3: DeprecationWarning: use options instead of firefox_options\n",
      "  browser = webdriver.Firefox(firefox_options=fireFoxOptions)\n"
     ]
    },
    {
     "name": "stdout",
     "output_type": "stream",
     "text": [
      "feb22a3e-2cb0-480e-8489-a611730b9ecd\n"
     ]
    },
    {
     "name": "stderr",
     "output_type": "stream",
     "text": [
      "<ipython-input-6-ea4c51657731>:3: DeprecationWarning: use options instead of firefox_options\n",
      "  browser = webdriver.Firefox(firefox_options=fireFoxOptions)\n"
     ]
    },
    {
     "name": "stdout",
     "output_type": "stream",
     "text": [
      "9dcee4c5-7501-4df6-b0ca-865b719f6625\n"
     ]
    },
    {
     "name": "stderr",
     "output_type": "stream",
     "text": [
      "<ipython-input-6-ea4c51657731>:3: DeprecationWarning: use options instead of firefox_options\n",
      "  browser = webdriver.Firefox(firefox_options=fireFoxOptions)\n"
     ]
    },
    {
     "name": "stdout",
     "output_type": "stream",
     "text": [
      "13955419-98ff-4816-a430-8f4f47566216\n"
     ]
    },
    {
     "name": "stderr",
     "output_type": "stream",
     "text": [
      "<ipython-input-6-ea4c51657731>:3: DeprecationWarning: use options instead of firefox_options\n",
      "  browser = webdriver.Firefox(firefox_options=fireFoxOptions)\n"
     ]
    },
    {
     "name": "stdout",
     "output_type": "stream",
     "text": [
      "8d05596e-c03d-4c60-a1a1-a89d0445a521\n"
     ]
    },
    {
     "name": "stderr",
     "output_type": "stream",
     "text": [
      "<ipython-input-6-ea4c51657731>:3: DeprecationWarning: use options instead of firefox_options\n",
      "  browser = webdriver.Firefox(firefox_options=fireFoxOptions)\n"
     ]
    },
    {
     "name": "stdout",
     "output_type": "stream",
     "text": [
      "e1e50495-0941-4c4a-8022-52fdbadf822e\n"
     ]
    },
    {
     "name": "stderr",
     "output_type": "stream",
     "text": [
      "<ipython-input-6-ea4c51657731>:3: DeprecationWarning: use options instead of firefox_options\n",
      "  browser = webdriver.Firefox(firefox_options=fireFoxOptions)\n"
     ]
    },
    {
     "name": "stdout",
     "output_type": "stream",
     "text": [
      "848924a3-e197-482c-9e29-e8ef1365ee9e\n"
     ]
    },
    {
     "name": "stderr",
     "output_type": "stream",
     "text": [
      "<ipython-input-6-ea4c51657731>:3: DeprecationWarning: use options instead of firefox_options\n",
      "  browser = webdriver.Firefox(firefox_options=fireFoxOptions)\n"
     ]
    },
    {
     "name": "stdout",
     "output_type": "stream",
     "text": [
      "15131ef5-4aa8-46b6-85e0-4580a33309e2\n"
     ]
    },
    {
     "name": "stderr",
     "output_type": "stream",
     "text": [
      "<ipython-input-6-ea4c51657731>:3: DeprecationWarning: use options instead of firefox_options\n",
      "  browser = webdriver.Firefox(firefox_options=fireFoxOptions)\n"
     ]
    },
    {
     "name": "stdout",
     "output_type": "stream",
     "text": [
      "80939a1a-8f6d-4457-830b-bfaafb15e0f4\n"
     ]
    },
    {
     "name": "stderr",
     "output_type": "stream",
     "text": [
      "<ipython-input-6-ea4c51657731>:3: DeprecationWarning: use options instead of firefox_options\n",
      "  browser = webdriver.Firefox(firefox_options=fireFoxOptions)\n"
     ]
    },
    {
     "name": "stdout",
     "output_type": "stream",
     "text": [
      "67388535-a216-493f-9599-26243f2f5ee9\n"
     ]
    },
    {
     "name": "stderr",
     "output_type": "stream",
     "text": [
      "<ipython-input-6-ea4c51657731>:3: DeprecationWarning: use options instead of firefox_options\n",
      "  browser = webdriver.Firefox(firefox_options=fireFoxOptions)\n"
     ]
    },
    {
     "name": "stdout",
     "output_type": "stream",
     "text": [
      "d96bcfa9-3138-420a-bf24-2bf96bdb08bd\n"
     ]
    },
    {
     "name": "stderr",
     "output_type": "stream",
     "text": [
      "<ipython-input-6-ea4c51657731>:3: DeprecationWarning: use options instead of firefox_options\n",
      "  browser = webdriver.Firefox(firefox_options=fireFoxOptions)\n"
     ]
    },
    {
     "name": "stdout",
     "output_type": "stream",
     "text": [
      "cff61ae4-bf97-48f8-a94c-1f8289e72072\n"
     ]
    },
    {
     "name": "stderr",
     "output_type": "stream",
     "text": [
      "<ipython-input-6-ea4c51657731>:3: DeprecationWarning: use options instead of firefox_options\n",
      "  browser = webdriver.Firefox(firefox_options=fireFoxOptions)\n"
     ]
    },
    {
     "name": "stdout",
     "output_type": "stream",
     "text": [
      "df3084de-fccf-464a-b9b9-8f5c92dad944\n"
     ]
    },
    {
     "name": "stderr",
     "output_type": "stream",
     "text": [
      "<ipython-input-6-ea4c51657731>:3: DeprecationWarning: use options instead of firefox_options\n",
      "  browser = webdriver.Firefox(firefox_options=fireFoxOptions)\n"
     ]
    },
    {
     "name": "stdout",
     "output_type": "stream",
     "text": [
      "456dc8e7-2168-4a52-9257-7bcbaa764431\n"
     ]
    },
    {
     "name": "stderr",
     "output_type": "stream",
     "text": [
      "<ipython-input-6-ea4c51657731>:3: DeprecationWarning: use options instead of firefox_options\n",
      "  browser = webdriver.Firefox(firefox_options=fireFoxOptions)\n"
     ]
    },
    {
     "name": "stdout",
     "output_type": "stream",
     "text": [
      "df270395-6444-45b5-9bf8-f598bfa23c7a\n"
     ]
    },
    {
     "name": "stderr",
     "output_type": "stream",
     "text": [
      "<ipython-input-6-ea4c51657731>:3: DeprecationWarning: use options instead of firefox_options\n",
      "  browser = webdriver.Firefox(firefox_options=fireFoxOptions)\n"
     ]
    },
    {
     "name": "stdout",
     "output_type": "stream",
     "text": [
      "8a43850c-f7fb-40e1-b6e1-fa45ad44a4e1\n"
     ]
    },
    {
     "name": "stderr",
     "output_type": "stream",
     "text": [
      "<ipython-input-6-ea4c51657731>:3: DeprecationWarning: use options instead of firefox_options\n",
      "  browser = webdriver.Firefox(firefox_options=fireFoxOptions)\n"
     ]
    },
    {
     "name": "stdout",
     "output_type": "stream",
     "text": [
      "298a84f4-508f-4d09-b373-d867d8ce9d26\n"
     ]
    },
    {
     "name": "stderr",
     "output_type": "stream",
     "text": [
      "<ipython-input-6-ea4c51657731>:3: DeprecationWarning: use options instead of firefox_options\n",
      "  browser = webdriver.Firefox(firefox_options=fireFoxOptions)\n"
     ]
    },
    {
     "name": "stdout",
     "output_type": "stream",
     "text": [
      "23437c6d-974c-4b94-84ba-ecd317b4901f\n"
     ]
    },
    {
     "name": "stderr",
     "output_type": "stream",
     "text": [
      "<ipython-input-6-ea4c51657731>:3: DeprecationWarning: use options instead of firefox_options\n",
      "  browser = webdriver.Firefox(firefox_options=fireFoxOptions)\n"
     ]
    },
    {
     "name": "stdout",
     "output_type": "stream",
     "text": [
      "989d9e5a-52b1-45ab-a1ee-d55577daca28\n"
     ]
    },
    {
     "name": "stderr",
     "output_type": "stream",
     "text": [
      "<ipython-input-6-ea4c51657731>:3: DeprecationWarning: use options instead of firefox_options\n",
      "  browser = webdriver.Firefox(firefox_options=fireFoxOptions)\n"
     ]
    },
    {
     "name": "stdout",
     "output_type": "stream",
     "text": [
      "f0b2b68a-c5a3-4e36-be50-d8d97a721113\n"
     ]
    },
    {
     "name": "stderr",
     "output_type": "stream",
     "text": [
      "<ipython-input-6-ea4c51657731>:3: DeprecationWarning: use options instead of firefox_options\n",
      "  browser = webdriver.Firefox(firefox_options=fireFoxOptions)\n"
     ]
    },
    {
     "name": "stdout",
     "output_type": "stream",
     "text": [
      "c0f21435-1428-4387-9ba6-5f6167147468\n"
     ]
    },
    {
     "name": "stderr",
     "output_type": "stream",
     "text": [
      "<ipython-input-6-ea4c51657731>:3: DeprecationWarning: use options instead of firefox_options\n",
      "  browser = webdriver.Firefox(firefox_options=fireFoxOptions)\n"
     ]
    },
    {
     "name": "stdout",
     "output_type": "stream",
     "text": [
      "4c7c9f01-ee37-4c78-9a9b-9cf7f701629e\n"
     ]
    },
    {
     "name": "stderr",
     "output_type": "stream",
     "text": [
      "<ipython-input-6-ea4c51657731>:3: DeprecationWarning: use options instead of firefox_options\n",
      "  browser = webdriver.Firefox(firefox_options=fireFoxOptions)\n"
     ]
    },
    {
     "name": "stdout",
     "output_type": "stream",
     "text": [
      "aa81a9e7-7dbb-471d-baa8-e40740d26e73\n"
     ]
    },
    {
     "name": "stderr",
     "output_type": "stream",
     "text": [
      "<ipython-input-6-ea4c51657731>:3: DeprecationWarning: use options instead of firefox_options\n",
      "  browser = webdriver.Firefox(firefox_options=fireFoxOptions)\n"
     ]
    },
    {
     "name": "stdout",
     "output_type": "stream",
     "text": [
      "2d936cc6-121f-485e-9e27-65d38fb5b37e\n"
     ]
    },
    {
     "name": "stderr",
     "output_type": "stream",
     "text": [
      "<ipython-input-6-ea4c51657731>:3: DeprecationWarning: use options instead of firefox_options\n",
      "  browser = webdriver.Firefox(firefox_options=fireFoxOptions)\n"
     ]
    },
    {
     "name": "stdout",
     "output_type": "stream",
     "text": [
      "346ac1f0-0c0d-4fc9-88ba-b05406982c7a\n"
     ]
    },
    {
     "name": "stderr",
     "output_type": "stream",
     "text": [
      "<ipython-input-6-ea4c51657731>:3: DeprecationWarning: use options instead of firefox_options\n",
      "  browser = webdriver.Firefox(firefox_options=fireFoxOptions)\n"
     ]
    },
    {
     "name": "stdout",
     "output_type": "stream",
     "text": [
      "f503975c-8530-4ae7-adc5-f8167adeab6b\n"
     ]
    },
    {
     "name": "stderr",
     "output_type": "stream",
     "text": [
      "<ipython-input-6-ea4c51657731>:3: DeprecationWarning: use options instead of firefox_options\n",
      "  browser = webdriver.Firefox(firefox_options=fireFoxOptions)\n"
     ]
    },
    {
     "name": "stdout",
     "output_type": "stream",
     "text": [
      "dd4c0e50-3d21-4c2e-81f9-86c5e393c224\n"
     ]
    },
    {
     "name": "stderr",
     "output_type": "stream",
     "text": [
      "<ipython-input-6-ea4c51657731>:3: DeprecationWarning: use options instead of firefox_options\n",
      "  browser = webdriver.Firefox(firefox_options=fireFoxOptions)\n"
     ]
    },
    {
     "name": "stdout",
     "output_type": "stream",
     "text": [
      "ac960cfb-438f-4378-baa2-fdba2d4e5d67\n"
     ]
    },
    {
     "name": "stderr",
     "output_type": "stream",
     "text": [
      "<ipython-input-6-ea4c51657731>:3: DeprecationWarning: use options instead of firefox_options\n",
      "  browser = webdriver.Firefox(firefox_options=fireFoxOptions)\n"
     ]
    },
    {
     "name": "stdout",
     "output_type": "stream",
     "text": [
      "5c1946fc-c55a-420a-95f4-4cbdded6a5d4\n"
     ]
    },
    {
     "name": "stderr",
     "output_type": "stream",
     "text": [
      "<ipython-input-6-ea4c51657731>:3: DeprecationWarning: use options instead of firefox_options\n",
      "  browser = webdriver.Firefox(firefox_options=fireFoxOptions)\n"
     ]
    },
    {
     "name": "stdout",
     "output_type": "stream",
     "text": [
      "4329911f-3c58-41c1-a840-e3f6e0b7d1c6\n"
     ]
    },
    {
     "name": "stderr",
     "output_type": "stream",
     "text": [
      "<ipython-input-6-ea4c51657731>:3: DeprecationWarning: use options instead of firefox_options\n",
      "  browser = webdriver.Firefox(firefox_options=fireFoxOptions)\n"
     ]
    },
    {
     "name": "stdout",
     "output_type": "stream",
     "text": [
      "2b882798-cc73-4ffb-8961-ab9d9d6f71e6\n"
     ]
    },
    {
     "name": "stderr",
     "output_type": "stream",
     "text": [
      "<ipython-input-6-ea4c51657731>:3: DeprecationWarning: use options instead of firefox_options\n",
      "  browser = webdriver.Firefox(firefox_options=fireFoxOptions)\n"
     ]
    },
    {
     "name": "stdout",
     "output_type": "stream",
     "text": [
      "02dd0e24-77d4-461d-bec4-b15eb1a82443\n"
     ]
    },
    {
     "name": "stderr",
     "output_type": "stream",
     "text": [
      "<ipython-input-6-ea4c51657731>:3: DeprecationWarning: use options instead of firefox_options\n",
      "  browser = webdriver.Firefox(firefox_options=fireFoxOptions)\n"
     ]
    },
    {
     "name": "stdout",
     "output_type": "stream",
     "text": [
      "6ff84945-1075-4f7c-b45b-44cbe85aa595\n"
     ]
    },
    {
     "name": "stderr",
     "output_type": "stream",
     "text": [
      "<ipython-input-6-ea4c51657731>:3: DeprecationWarning: use options instead of firefox_options\n",
      "  browser = webdriver.Firefox(firefox_options=fireFoxOptions)\n"
     ]
    },
    {
     "name": "stdout",
     "output_type": "stream",
     "text": [
      "291e2b55-7ab0-4513-b2da-b8ab06c75ff6\n"
     ]
    },
    {
     "name": "stderr",
     "output_type": "stream",
     "text": [
      "<ipython-input-6-ea4c51657731>:3: DeprecationWarning: use options instead of firefox_options\n",
      "  browser = webdriver.Firefox(firefox_options=fireFoxOptions)\n"
     ]
    },
    {
     "name": "stdout",
     "output_type": "stream",
     "text": [
      "40de7508-140f-471d-9390-1fd7797e0fec\n"
     ]
    },
    {
     "name": "stderr",
     "output_type": "stream",
     "text": [
      "<ipython-input-6-ea4c51657731>:3: DeprecationWarning: use options instead of firefox_options\n",
      "  browser = webdriver.Firefox(firefox_options=fireFoxOptions)\n"
     ]
    },
    {
     "name": "stdout",
     "output_type": "stream",
     "text": [
      "b7f2f8cf-393b-468a-81d5-646caf0102e9\n"
     ]
    },
    {
     "name": "stderr",
     "output_type": "stream",
     "text": [
      "<ipython-input-6-ea4c51657731>:3: DeprecationWarning: use options instead of firefox_options\n",
      "  browser = webdriver.Firefox(firefox_options=fireFoxOptions)\n"
     ]
    },
    {
     "name": "stdout",
     "output_type": "stream",
     "text": [
      "46b61c93-634b-45bd-b301-aecbca375fd6\n"
     ]
    },
    {
     "name": "stderr",
     "output_type": "stream",
     "text": [
      "<ipython-input-6-ea4c51657731>:3: DeprecationWarning: use options instead of firefox_options\n",
      "  browser = webdriver.Firefox(firefox_options=fireFoxOptions)\n"
     ]
    },
    {
     "name": "stdout",
     "output_type": "stream",
     "text": [
      "f5d4ecb2-26bd-426f-a4a0-467326ac2939\n"
     ]
    },
    {
     "name": "stderr",
     "output_type": "stream",
     "text": [
      "<ipython-input-6-ea4c51657731>:3: DeprecationWarning: use options instead of firefox_options\n",
      "  browser = webdriver.Firefox(firefox_options=fireFoxOptions)\n"
     ]
    },
    {
     "name": "stdout",
     "output_type": "stream",
     "text": [
      "8d05352f-c91d-4fbf-ab76-0024717b4d39\n"
     ]
    },
    {
     "name": "stderr",
     "output_type": "stream",
     "text": [
      "<ipython-input-6-ea4c51657731>:3: DeprecationWarning: use options instead of firefox_options\n",
      "  browser = webdriver.Firefox(firefox_options=fireFoxOptions)\n"
     ]
    },
    {
     "name": "stdout",
     "output_type": "stream",
     "text": [
      "d16fdb27-0b33-4fb8-870e-895c242b4e8a\n"
     ]
    },
    {
     "name": "stderr",
     "output_type": "stream",
     "text": [
      "<ipython-input-6-ea4c51657731>:3: DeprecationWarning: use options instead of firefox_options\n",
      "  browser = webdriver.Firefox(firefox_options=fireFoxOptions)\n"
     ]
    },
    {
     "name": "stdout",
     "output_type": "stream",
     "text": [
      "bc9d0bd4-a5d9-4051-9847-396c218647b1\n"
     ]
    },
    {
     "name": "stderr",
     "output_type": "stream",
     "text": [
      "<ipython-input-6-ea4c51657731>:3: DeprecationWarning: use options instead of firefox_options\n",
      "  browser = webdriver.Firefox(firefox_options=fireFoxOptions)\n"
     ]
    },
    {
     "name": "stdout",
     "output_type": "stream",
     "text": [
      "f9712bd0-3db9-4616-9b2d-dbf9653e96fd\n"
     ]
    },
    {
     "name": "stderr",
     "output_type": "stream",
     "text": [
      "<ipython-input-6-ea4c51657731>:3: DeprecationWarning: use options instead of firefox_options\n",
      "  browser = webdriver.Firefox(firefox_options=fireFoxOptions)\n"
     ]
    },
    {
     "name": "stdout",
     "output_type": "stream",
     "text": [
      "2d13728c-3662-47e3-a4a9-bd1c40e099b7\n"
     ]
    },
    {
     "name": "stderr",
     "output_type": "stream",
     "text": [
      "<ipython-input-6-ea4c51657731>:3: DeprecationWarning: use options instead of firefox_options\n",
      "  browser = webdriver.Firefox(firefox_options=fireFoxOptions)\n"
     ]
    },
    {
     "name": "stdout",
     "output_type": "stream",
     "text": [
      "32feed5b-b0b8-4a90-9577-6b92fd7723ec\n"
     ]
    },
    {
     "name": "stderr",
     "output_type": "stream",
     "text": [
      "<ipython-input-6-ea4c51657731>:3: DeprecationWarning: use options instead of firefox_options\n",
      "  browser = webdriver.Firefox(firefox_options=fireFoxOptions)\n"
     ]
    },
    {
     "name": "stdout",
     "output_type": "stream",
     "text": [
      "0a55c461-4f50-427d-a50e-bab774ed0acb\n"
     ]
    },
    {
     "name": "stderr",
     "output_type": "stream",
     "text": [
      "<ipython-input-6-ea4c51657731>:3: DeprecationWarning: use options instead of firefox_options\n",
      "  browser = webdriver.Firefox(firefox_options=fireFoxOptions)\n"
     ]
    },
    {
     "name": "stdout",
     "output_type": "stream",
     "text": [
      "2220d8e1-ba1a-4455-b8aa-0809340278a9\n"
     ]
    },
    {
     "name": "stderr",
     "output_type": "stream",
     "text": [
      "<ipython-input-6-ea4c51657731>:3: DeprecationWarning: use options instead of firefox_options\n",
      "  browser = webdriver.Firefox(firefox_options=fireFoxOptions)\n"
     ]
    },
    {
     "name": "stdout",
     "output_type": "stream",
     "text": [
      "41f8c84a-d187-4147-a5c3-74a1ea730e25\n"
     ]
    },
    {
     "name": "stderr",
     "output_type": "stream",
     "text": [
      "<ipython-input-6-ea4c51657731>:3: DeprecationWarning: use options instead of firefox_options\n",
      "  browser = webdriver.Firefox(firefox_options=fireFoxOptions)\n"
     ]
    },
    {
     "name": "stdout",
     "output_type": "stream",
     "text": [
      "762d983b-4e8c-4684-b14d-6f8f2064f670\n"
     ]
    },
    {
     "name": "stderr",
     "output_type": "stream",
     "text": [
      "<ipython-input-6-ea4c51657731>:3: DeprecationWarning: use options instead of firefox_options\n",
      "  browser = webdriver.Firefox(firefox_options=fireFoxOptions)\n"
     ]
    },
    {
     "name": "stdout",
     "output_type": "stream",
     "text": [
      "2835bc94-e075-41d1-b4cd-062bdc9daf90\n"
     ]
    },
    {
     "name": "stderr",
     "output_type": "stream",
     "text": [
      "<ipython-input-6-ea4c51657731>:3: DeprecationWarning: use options instead of firefox_options\n",
      "  browser = webdriver.Firefox(firefox_options=fireFoxOptions)\n"
     ]
    },
    {
     "name": "stdout",
     "output_type": "stream",
     "text": [
      "821a592b-70da-4c91-af9c-fae0e668600e\n"
     ]
    },
    {
     "name": "stderr",
     "output_type": "stream",
     "text": [
      "<ipython-input-6-ea4c51657731>:3: DeprecationWarning: use options instead of firefox_options\n",
      "  browser = webdriver.Firefox(firefox_options=fireFoxOptions)\n"
     ]
    },
    {
     "name": "stdout",
     "output_type": "stream",
     "text": [
      "355f91f0-6258-4372-9b6c-d8b2e2a6e371\n"
     ]
    },
    {
     "name": "stderr",
     "output_type": "stream",
     "text": [
      "<ipython-input-6-ea4c51657731>:3: DeprecationWarning: use options instead of firefox_options\n",
      "  browser = webdriver.Firefox(firefox_options=fireFoxOptions)\n"
     ]
    },
    {
     "name": "stdout",
     "output_type": "stream",
     "text": [
      "a6fc77af-1a7b-46d6-b54b-0507dbf74f12\n"
     ]
    },
    {
     "name": "stderr",
     "output_type": "stream",
     "text": [
      "<ipython-input-6-ea4c51657731>:3: DeprecationWarning: use options instead of firefox_options\n",
      "  browser = webdriver.Firefox(firefox_options=fireFoxOptions)\n"
     ]
    },
    {
     "name": "stdout",
     "output_type": "stream",
     "text": [
      "3f98eaec-2b38-461a-8306-e0047d311236\n"
     ]
    },
    {
     "name": "stderr",
     "output_type": "stream",
     "text": [
      "<ipython-input-6-ea4c51657731>:3: DeprecationWarning: use options instead of firefox_options\n",
      "  browser = webdriver.Firefox(firefox_options=fireFoxOptions)\n"
     ]
    },
    {
     "name": "stdout",
     "output_type": "stream",
     "text": [
      "b1809142-b1a2-4f4c-b70e-312080d28ca6\n"
     ]
    },
    {
     "name": "stderr",
     "output_type": "stream",
     "text": [
      "<ipython-input-6-ea4c51657731>:3: DeprecationWarning: use options instead of firefox_options\n",
      "  browser = webdriver.Firefox(firefox_options=fireFoxOptions)\n"
     ]
    },
    {
     "name": "stdout",
     "output_type": "stream",
     "text": [
      "8383d5fe-1a16-4424-aa12-bca212470045\n"
     ]
    },
    {
     "name": "stderr",
     "output_type": "stream",
     "text": [
      "<ipython-input-6-ea4c51657731>:3: DeprecationWarning: use options instead of firefox_options\n",
      "  browser = webdriver.Firefox(firefox_options=fireFoxOptions)\n"
     ]
    },
    {
     "name": "stdout",
     "output_type": "stream",
     "text": [
      "0e216603-5afd-4d2a-8e4a-6a46dd03ac9f\n"
     ]
    },
    {
     "name": "stderr",
     "output_type": "stream",
     "text": [
      "<ipython-input-6-ea4c51657731>:3: DeprecationWarning: use options instead of firefox_options\n",
      "  browser = webdriver.Firefox(firefox_options=fireFoxOptions)\n"
     ]
    },
    {
     "name": "stdout",
     "output_type": "stream",
     "text": [
      "750d8840-d102-4f37-8d02-577357a907ac\n"
     ]
    },
    {
     "name": "stderr",
     "output_type": "stream",
     "text": [
      "<ipython-input-6-ea4c51657731>:3: DeprecationWarning: use options instead of firefox_options\n",
      "  browser = webdriver.Firefox(firefox_options=fireFoxOptions)\n"
     ]
    },
    {
     "name": "stdout",
     "output_type": "stream",
     "text": [
      "710e9307-dcbd-4e69-b2de-8a17e6c4f56d\n"
     ]
    },
    {
     "name": "stderr",
     "output_type": "stream",
     "text": [
      "<ipython-input-6-ea4c51657731>:3: DeprecationWarning: use options instead of firefox_options\n",
      "  browser = webdriver.Firefox(firefox_options=fireFoxOptions)\n"
     ]
    },
    {
     "name": "stdout",
     "output_type": "stream",
     "text": [
      "4bb186ac-b6e2-428d-9ba6-25645e878c3b\n"
     ]
    },
    {
     "name": "stderr",
     "output_type": "stream",
     "text": [
      "<ipython-input-6-ea4c51657731>:3: DeprecationWarning: use options instead of firefox_options\n",
      "  browser = webdriver.Firefox(firefox_options=fireFoxOptions)\n"
     ]
    },
    {
     "name": "stdout",
     "output_type": "stream",
     "text": [
      "4367b26b-2a9c-4d55-b931-1d7294cad9ce\n"
     ]
    },
    {
     "name": "stderr",
     "output_type": "stream",
     "text": [
      "<ipython-input-6-ea4c51657731>:3: DeprecationWarning: use options instead of firefox_options\n",
      "  browser = webdriver.Firefox(firefox_options=fireFoxOptions)\n"
     ]
    },
    {
     "name": "stdout",
     "output_type": "stream",
     "text": [
      "4404a20e-29f7-4f27-a2ff-1591dbc9ff62\n"
     ]
    },
    {
     "name": "stderr",
     "output_type": "stream",
     "text": [
      "<ipython-input-6-ea4c51657731>:3: DeprecationWarning: use options instead of firefox_options\n",
      "  browser = webdriver.Firefox(firefox_options=fireFoxOptions)\n"
     ]
    },
    {
     "name": "stdout",
     "output_type": "stream",
     "text": [
      "117de55b-820a-40c8-ae00-deb7deab5d49\n"
     ]
    },
    {
     "name": "stderr",
     "output_type": "stream",
     "text": [
      "<ipython-input-6-ea4c51657731>:3: DeprecationWarning: use options instead of firefox_options\n",
      "  browser = webdriver.Firefox(firefox_options=fireFoxOptions)\n"
     ]
    },
    {
     "name": "stdout",
     "output_type": "stream",
     "text": [
      "07a9963e-de48-444a-8495-f7f8577e6cfa\n"
     ]
    },
    {
     "name": "stderr",
     "output_type": "stream",
     "text": [
      "<ipython-input-6-ea4c51657731>:3: DeprecationWarning: use options instead of firefox_options\n",
      "  browser = webdriver.Firefox(firefox_options=fireFoxOptions)\n"
     ]
    },
    {
     "name": "stdout",
     "output_type": "stream",
     "text": [
      "9390766a-a2aa-4823-99a9-a2ad16b5ffbe\n"
     ]
    },
    {
     "name": "stderr",
     "output_type": "stream",
     "text": [
      "<ipython-input-6-ea4c51657731>:3: DeprecationWarning: use options instead of firefox_options\n",
      "  browser = webdriver.Firefox(firefox_options=fireFoxOptions)\n"
     ]
    },
    {
     "name": "stdout",
     "output_type": "stream",
     "text": [
      "a1751949-96c2-4a9c-b654-618a5e2ec76a\n"
     ]
    },
    {
     "name": "stderr",
     "output_type": "stream",
     "text": [
      "<ipython-input-6-ea4c51657731>:3: DeprecationWarning: use options instead of firefox_options\n",
      "  browser = webdriver.Firefox(firefox_options=fireFoxOptions)\n"
     ]
    },
    {
     "name": "stdout",
     "output_type": "stream",
     "text": [
      "45f2f1f3-f48b-4c51-9b0b-49341de95c7b\n"
     ]
    },
    {
     "name": "stderr",
     "output_type": "stream",
     "text": [
      "<ipython-input-6-ea4c51657731>:3: DeprecationWarning: use options instead of firefox_options\n",
      "  browser = webdriver.Firefox(firefox_options=fireFoxOptions)\n"
     ]
    },
    {
     "name": "stdout",
     "output_type": "stream",
     "text": [
      "14b81ce4-6958-45b4-9400-5b2dd2a4c5b1\n"
     ]
    },
    {
     "name": "stderr",
     "output_type": "stream",
     "text": [
      "<ipython-input-6-ea4c51657731>:3: DeprecationWarning: use options instead of firefox_options\n",
      "  browser = webdriver.Firefox(firefox_options=fireFoxOptions)\n"
     ]
    },
    {
     "name": "stdout",
     "output_type": "stream",
     "text": [
      "150f7b8b-9980-4d87-b0e9-2c321ec7b990\n"
     ]
    },
    {
     "name": "stderr",
     "output_type": "stream",
     "text": [
      "<ipython-input-6-ea4c51657731>:3: DeprecationWarning: use options instead of firefox_options\n",
      "  browser = webdriver.Firefox(firefox_options=fireFoxOptions)\n"
     ]
    },
    {
     "name": "stdout",
     "output_type": "stream",
     "text": [
      "b85da38e-3c98-4e6c-a1fa-feccdfc4afd8\n"
     ]
    },
    {
     "name": "stderr",
     "output_type": "stream",
     "text": [
      "<ipython-input-6-ea4c51657731>:3: DeprecationWarning: use options instead of firefox_options\n",
      "  browser = webdriver.Firefox(firefox_options=fireFoxOptions)\n"
     ]
    },
    {
     "name": "stdout",
     "output_type": "stream",
     "text": [
      "8f5af622-a5d0-4477-b32d-5de216fb1e51\n"
     ]
    },
    {
     "name": "stderr",
     "output_type": "stream",
     "text": [
      "<ipython-input-6-ea4c51657731>:3: DeprecationWarning: use options instead of firefox_options\n",
      "  browser = webdriver.Firefox(firefox_options=fireFoxOptions)\n"
     ]
    },
    {
     "name": "stdout",
     "output_type": "stream",
     "text": [
      "9205b30c-9f51-4854-a5a6-bbae8e949db9\n"
     ]
    },
    {
     "name": "stderr",
     "output_type": "stream",
     "text": [
      "<ipython-input-6-ea4c51657731>:3: DeprecationWarning: use options instead of firefox_options\n",
      "  browser = webdriver.Firefox(firefox_options=fireFoxOptions)\n"
     ]
    },
    {
     "name": "stdout",
     "output_type": "stream",
     "text": [
      "8181821f-d3d7-4cac-831c-630a005b2405\n"
     ]
    },
    {
     "name": "stderr",
     "output_type": "stream",
     "text": [
      "<ipython-input-6-ea4c51657731>:3: DeprecationWarning: use options instead of firefox_options\n",
      "  browser = webdriver.Firefox(firefox_options=fireFoxOptions)\n"
     ]
    },
    {
     "name": "stdout",
     "output_type": "stream",
     "text": [
      "a03d8c4d-9c24-4293-9df1-8d172d63908b\n"
     ]
    },
    {
     "name": "stderr",
     "output_type": "stream",
     "text": [
      "<ipython-input-6-ea4c51657731>:3: DeprecationWarning: use options instead of firefox_options\n",
      "  browser = webdriver.Firefox(firefox_options=fireFoxOptions)\n"
     ]
    },
    {
     "name": "stdout",
     "output_type": "stream",
     "text": [
      "7cc7931c-5eeb-48e9-a02b-a1c3201417e5\n"
     ]
    },
    {
     "name": "stderr",
     "output_type": "stream",
     "text": [
      "<ipython-input-6-ea4c51657731>:3: DeprecationWarning: use options instead of firefox_options\n",
      "  browser = webdriver.Firefox(firefox_options=fireFoxOptions)\n"
     ]
    },
    {
     "name": "stdout",
     "output_type": "stream",
     "text": [
      "e3e72ba8-da1e-46c3-9d87-c5d9185e9714\n"
     ]
    },
    {
     "name": "stderr",
     "output_type": "stream",
     "text": [
      "<ipython-input-6-ea4c51657731>:3: DeprecationWarning: use options instead of firefox_options\n",
      "  browser = webdriver.Firefox(firefox_options=fireFoxOptions)\n"
     ]
    },
    {
     "name": "stdout",
     "output_type": "stream",
     "text": [
      "1ebd5137-9ada-4636-aa72-6cdd890257e4\n"
     ]
    },
    {
     "name": "stderr",
     "output_type": "stream",
     "text": [
      "<ipython-input-6-ea4c51657731>:3: DeprecationWarning: use options instead of firefox_options\n",
      "  browser = webdriver.Firefox(firefox_options=fireFoxOptions)\n"
     ]
    },
    {
     "name": "stdout",
     "output_type": "stream",
     "text": [
      "0560d510-8402-443b-8d28-893ef2e9ed4f\n"
     ]
    },
    {
     "name": "stderr",
     "output_type": "stream",
     "text": [
      "<ipython-input-6-ea4c51657731>:3: DeprecationWarning: use options instead of firefox_options\n",
      "  browser = webdriver.Firefox(firefox_options=fireFoxOptions)\n"
     ]
    },
    {
     "name": "stdout",
     "output_type": "stream",
     "text": [
      "74045615-bc03-4786-b1cb-f8466872335f\n"
     ]
    },
    {
     "name": "stderr",
     "output_type": "stream",
     "text": [
      "<ipython-input-6-ea4c51657731>:3: DeprecationWarning: use options instead of firefox_options\n",
      "  browser = webdriver.Firefox(firefox_options=fireFoxOptions)\n"
     ]
    },
    {
     "name": "stdout",
     "output_type": "stream",
     "text": [
      "c5fb716c-322b-48f3-a7f4-913ed82ee8b1\n"
     ]
    },
    {
     "name": "stderr",
     "output_type": "stream",
     "text": [
      "<ipython-input-6-ea4c51657731>:3: DeprecationWarning: use options instead of firefox_options\n",
      "  browser = webdriver.Firefox(firefox_options=fireFoxOptions)\n"
     ]
    },
    {
     "name": "stdout",
     "output_type": "stream",
     "text": [
      "8f40b18d-e719-402a-9699-52b04c47edd6\n"
     ]
    },
    {
     "name": "stderr",
     "output_type": "stream",
     "text": [
      "<ipython-input-6-ea4c51657731>:3: DeprecationWarning: use options instead of firefox_options\n",
      "  browser = webdriver.Firefox(firefox_options=fireFoxOptions)\n"
     ]
    },
    {
     "name": "stdout",
     "output_type": "stream",
     "text": [
      "ee87c119-a1b8-42f2-b16b-26bc76b54167\n"
     ]
    },
    {
     "name": "stderr",
     "output_type": "stream",
     "text": [
      "<ipython-input-6-ea4c51657731>:3: DeprecationWarning: use options instead of firefox_options\n",
      "  browser = webdriver.Firefox(firefox_options=fireFoxOptions)\n"
     ]
    },
    {
     "name": "stdout",
     "output_type": "stream",
     "text": [
      "130baf43-e0a8-49fe-bf11-4a11b3f1aaaa\n"
     ]
    },
    {
     "name": "stderr",
     "output_type": "stream",
     "text": [
      "<ipython-input-6-ea4c51657731>:3: DeprecationWarning: use options instead of firefox_options\n",
      "  browser = webdriver.Firefox(firefox_options=fireFoxOptions)\n"
     ]
    },
    {
     "name": "stdout",
     "output_type": "stream",
     "text": [
      "f5eb91eb-6c1b-4048-92ad-20962428d23d\n"
     ]
    },
    {
     "name": "stderr",
     "output_type": "stream",
     "text": [
      "<ipython-input-6-ea4c51657731>:3: DeprecationWarning: use options instead of firefox_options\n",
      "  browser = webdriver.Firefox(firefox_options=fireFoxOptions)\n"
     ]
    },
    {
     "name": "stdout",
     "output_type": "stream",
     "text": [
      "bb1df458-1193-4421-879a-2162c6aa3e95\n"
     ]
    },
    {
     "name": "stderr",
     "output_type": "stream",
     "text": [
      "<ipython-input-6-ea4c51657731>:3: DeprecationWarning: use options instead of firefox_options\n",
      "  browser = webdriver.Firefox(firefox_options=fireFoxOptions)\n"
     ]
    },
    {
     "name": "stdout",
     "output_type": "stream",
     "text": [
      "910fea6a-2fa9-436d-82c0-7aa2c68cb15c\n"
     ]
    },
    {
     "name": "stderr",
     "output_type": "stream",
     "text": [
      "<ipython-input-6-ea4c51657731>:3: DeprecationWarning: use options instead of firefox_options\n",
      "  browser = webdriver.Firefox(firefox_options=fireFoxOptions)\n"
     ]
    },
    {
     "name": "stdout",
     "output_type": "stream",
     "text": [
      "451066eb-1e18-4d6a-837e-b3472cb5cc0a\n"
     ]
    },
    {
     "name": "stderr",
     "output_type": "stream",
     "text": [
      "<ipython-input-6-ea4c51657731>:3: DeprecationWarning: use options instead of firefox_options\n",
      "  browser = webdriver.Firefox(firefox_options=fireFoxOptions)\n"
     ]
    },
    {
     "name": "stdout",
     "output_type": "stream",
     "text": [
      "895250d3-9360-4876-8545-15d63b098c02\n"
     ]
    },
    {
     "name": "stderr",
     "output_type": "stream",
     "text": [
      "<ipython-input-6-ea4c51657731>:3: DeprecationWarning: use options instead of firefox_options\n",
      "  browser = webdriver.Firefox(firefox_options=fireFoxOptions)\n"
     ]
    },
    {
     "name": "stdout",
     "output_type": "stream",
     "text": [
      "a4c62c1f-a526-4013-9bff-41bc3d4947ab\n"
     ]
    },
    {
     "name": "stderr",
     "output_type": "stream",
     "text": [
      "<ipython-input-6-ea4c51657731>:3: DeprecationWarning: use options instead of firefox_options\n",
      "  browser = webdriver.Firefox(firefox_options=fireFoxOptions)\n"
     ]
    },
    {
     "name": "stdout",
     "output_type": "stream",
     "text": [
      "e1899a36-b737-4907-aca1-2474dc5e4791\n"
     ]
    },
    {
     "name": "stderr",
     "output_type": "stream",
     "text": [
      "<ipython-input-6-ea4c51657731>:3: DeprecationWarning: use options instead of firefox_options\n",
      "  browser = webdriver.Firefox(firefox_options=fireFoxOptions)\n"
     ]
    },
    {
     "name": "stdout",
     "output_type": "stream",
     "text": [
      "0b3753b1-2d18-4221-8f87-6b1b7b059086\n"
     ]
    },
    {
     "name": "stderr",
     "output_type": "stream",
     "text": [
      "<ipython-input-6-ea4c51657731>:3: DeprecationWarning: use options instead of firefox_options\n",
      "  browser = webdriver.Firefox(firefox_options=fireFoxOptions)\n"
     ]
    },
    {
     "name": "stdout",
     "output_type": "stream",
     "text": [
      "c3f6793e-750c-487a-8477-5312ee9a30a7\n"
     ]
    },
    {
     "name": "stderr",
     "output_type": "stream",
     "text": [
      "<ipython-input-6-ea4c51657731>:3: DeprecationWarning: use options instead of firefox_options\n",
      "  browser = webdriver.Firefox(firefox_options=fireFoxOptions)\n"
     ]
    },
    {
     "name": "stdout",
     "output_type": "stream",
     "text": [
      "d7c300e6-13ab-439d-94c3-de3828acc226\n"
     ]
    },
    {
     "name": "stderr",
     "output_type": "stream",
     "text": [
      "<ipython-input-6-ea4c51657731>:3: DeprecationWarning: use options instead of firefox_options\n",
      "  browser = webdriver.Firefox(firefox_options=fireFoxOptions)\n"
     ]
    },
    {
     "name": "stdout",
     "output_type": "stream",
     "text": [
      "402022b9-9bdf-4be9-9610-69b17a6b135c\n"
     ]
    },
    {
     "name": "stderr",
     "output_type": "stream",
     "text": [
      "<ipython-input-6-ea4c51657731>:3: DeprecationWarning: use options instead of firefox_options\n",
      "  browser = webdriver.Firefox(firefox_options=fireFoxOptions)\n"
     ]
    },
    {
     "name": "stdout",
     "output_type": "stream",
     "text": [
      "5712ef60-71c5-40f6-93ab-251fb4ce235f\n"
     ]
    },
    {
     "name": "stderr",
     "output_type": "stream",
     "text": [
      "<ipython-input-6-ea4c51657731>:3: DeprecationWarning: use options instead of firefox_options\n",
      "  browser = webdriver.Firefox(firefox_options=fireFoxOptions)\n"
     ]
    },
    {
     "name": "stdout",
     "output_type": "stream",
     "text": [
      "5c865286-5094-432b-8260-0b2024ce4b80\n"
     ]
    },
    {
     "name": "stderr",
     "output_type": "stream",
     "text": [
      "<ipython-input-6-ea4c51657731>:3: DeprecationWarning: use options instead of firefox_options\n",
      "  browser = webdriver.Firefox(firefox_options=fireFoxOptions)\n"
     ]
    },
    {
     "name": "stdout",
     "output_type": "stream",
     "text": [
      "3c395c18-5f0c-476a-b5b8-2e4a3e3275ca\n"
     ]
    },
    {
     "name": "stderr",
     "output_type": "stream",
     "text": [
      "<ipython-input-6-ea4c51657731>:3: DeprecationWarning: use options instead of firefox_options\n",
      "  browser = webdriver.Firefox(firefox_options=fireFoxOptions)\n"
     ]
    },
    {
     "name": "stdout",
     "output_type": "stream",
     "text": [
      "95eacb42-2eb3-4e4e-b555-dc9594ea2d7b\n"
     ]
    },
    {
     "name": "stderr",
     "output_type": "stream",
     "text": [
      "<ipython-input-6-ea4c51657731>:3: DeprecationWarning: use options instead of firefox_options\n",
      "  browser = webdriver.Firefox(firefox_options=fireFoxOptions)\n"
     ]
    },
    {
     "name": "stdout",
     "output_type": "stream",
     "text": [
      "3618dea7-fe33-4726-b3c6-befc5f9b32d0\n"
     ]
    },
    {
     "name": "stderr",
     "output_type": "stream",
     "text": [
      "<ipython-input-6-ea4c51657731>:3: DeprecationWarning: use options instead of firefox_options\n",
      "  browser = webdriver.Firefox(firefox_options=fireFoxOptions)\n"
     ]
    },
    {
     "name": "stdout",
     "output_type": "stream",
     "text": [
      "41cce365-5549-45ed-b744-e8c031ba275c\n"
     ]
    },
    {
     "name": "stderr",
     "output_type": "stream",
     "text": [
      "<ipython-input-6-ea4c51657731>:3: DeprecationWarning: use options instead of firefox_options\n",
      "  browser = webdriver.Firefox(firefox_options=fireFoxOptions)\n"
     ]
    },
    {
     "name": "stdout",
     "output_type": "stream",
     "text": [
      "f68b3c56-1765-41d7-adf5-619d90cc05a3\n"
     ]
    },
    {
     "name": "stderr",
     "output_type": "stream",
     "text": [
      "<ipython-input-6-ea4c51657731>:3: DeprecationWarning: use options instead of firefox_options\n",
      "  browser = webdriver.Firefox(firefox_options=fireFoxOptions)\n"
     ]
    },
    {
     "name": "stdout",
     "output_type": "stream",
     "text": [
      "49999a20-e28b-4ee5-9a87-a0d24322eea0\n"
     ]
    },
    {
     "name": "stderr",
     "output_type": "stream",
     "text": [
      "<ipython-input-6-ea4c51657731>:3: DeprecationWarning: use options instead of firefox_options\n",
      "  browser = webdriver.Firefox(firefox_options=fireFoxOptions)\n"
     ]
    },
    {
     "name": "stdout",
     "output_type": "stream",
     "text": [
      "d24991fa-d001-4b25-8e54-65bb12d534d9\n"
     ]
    },
    {
     "name": "stderr",
     "output_type": "stream",
     "text": [
      "<ipython-input-6-ea4c51657731>:3: DeprecationWarning: use options instead of firefox_options\n",
      "  browser = webdriver.Firefox(firefox_options=fireFoxOptions)\n"
     ]
    },
    {
     "name": "stdout",
     "output_type": "stream",
     "text": [
      "9295cea7-656b-41a2-98e4-19fac2860f70\n"
     ]
    },
    {
     "name": "stderr",
     "output_type": "stream",
     "text": [
      "<ipython-input-6-ea4c51657731>:3: DeprecationWarning: use options instead of firefox_options\n",
      "  browser = webdriver.Firefox(firefox_options=fireFoxOptions)\n"
     ]
    },
    {
     "name": "stdout",
     "output_type": "stream",
     "text": [
      "823a94d6-f46b-4ea4-b64e-f63149bd1746\n"
     ]
    },
    {
     "name": "stderr",
     "output_type": "stream",
     "text": [
      "<ipython-input-6-ea4c51657731>:3: DeprecationWarning: use options instead of firefox_options\n",
      "  browser = webdriver.Firefox(firefox_options=fireFoxOptions)\n"
     ]
    },
    {
     "name": "stdout",
     "output_type": "stream",
     "text": [
      "08bb2c9a-e327-4f24-ae2e-8ca09b40a6b2\n"
     ]
    },
    {
     "name": "stderr",
     "output_type": "stream",
     "text": [
      "<ipython-input-6-ea4c51657731>:3: DeprecationWarning: use options instead of firefox_options\n",
      "  browser = webdriver.Firefox(firefox_options=fireFoxOptions)\n"
     ]
    },
    {
     "name": "stdout",
     "output_type": "stream",
     "text": [
      "e05e7ef6-8fa0-41a6-b674-686c6bcab20e\n"
     ]
    },
    {
     "name": "stderr",
     "output_type": "stream",
     "text": [
      "<ipython-input-6-ea4c51657731>:3: DeprecationWarning: use options instead of firefox_options\n",
      "  browser = webdriver.Firefox(firefox_options=fireFoxOptions)\n"
     ]
    },
    {
     "name": "stdout",
     "output_type": "stream",
     "text": [
      "130baf43-e0a8-49fe-bf11-4a11b3f1aaaa\n"
     ]
    },
    {
     "name": "stderr",
     "output_type": "stream",
     "text": [
      "<ipython-input-6-ea4c51657731>:3: DeprecationWarning: use options instead of firefox_options\n",
      "  browser = webdriver.Firefox(firefox_options=fireFoxOptions)\n"
     ]
    },
    {
     "name": "stdout",
     "output_type": "stream",
     "text": [
      "d5d8443d-fc74-4622-9379-e468c485bd8b\n"
     ]
    },
    {
     "name": "stderr",
     "output_type": "stream",
     "text": [
      "<ipython-input-6-ea4c51657731>:3: DeprecationWarning: use options instead of firefox_options\n",
      "  browser = webdriver.Firefox(firefox_options=fireFoxOptions)\n"
     ]
    },
    {
     "name": "stdout",
     "output_type": "stream",
     "text": [
      "766e0d20-e459-43e5-ab12-b2a054152c40\n"
     ]
    },
    {
     "name": "stderr",
     "output_type": "stream",
     "text": [
      "<ipython-input-6-ea4c51657731>:3: DeprecationWarning: use options instead of firefox_options\n",
      "  browser = webdriver.Firefox(firefox_options=fireFoxOptions)\n"
     ]
    },
    {
     "name": "stdout",
     "output_type": "stream",
     "text": [
      "062b88f0-140e-4c43-a529-8a87e477ab94\n"
     ]
    },
    {
     "name": "stderr",
     "output_type": "stream",
     "text": [
      "<ipython-input-6-ea4c51657731>:3: DeprecationWarning: use options instead of firefox_options\n",
      "  browser = webdriver.Firefox(firefox_options=fireFoxOptions)\n"
     ]
    },
    {
     "name": "stdout",
     "output_type": "stream",
     "text": [
      "83335e11-7b6c-4604-a47e-086f52b6587b\n"
     ]
    },
    {
     "name": "stderr",
     "output_type": "stream",
     "text": [
      "<ipython-input-6-ea4c51657731>:3: DeprecationWarning: use options instead of firefox_options\n",
      "  browser = webdriver.Firefox(firefox_options=fireFoxOptions)\n"
     ]
    },
    {
     "name": "stdout",
     "output_type": "stream",
     "text": [
      "62b49db6-19b4-478b-bc82-59d2f15d9bd2\n"
     ]
    },
    {
     "name": "stderr",
     "output_type": "stream",
     "text": [
      "<ipython-input-6-ea4c51657731>:3: DeprecationWarning: use options instead of firefox_options\n",
      "  browser = webdriver.Firefox(firefox_options=fireFoxOptions)\n"
     ]
    },
    {
     "name": "stdout",
     "output_type": "stream",
     "text": [
      "9a8d395e-4bc3-47fe-b876-07273d1106e2\n"
     ]
    },
    {
     "name": "stderr",
     "output_type": "stream",
     "text": [
      "<ipython-input-6-ea4c51657731>:3: DeprecationWarning: use options instead of firefox_options\n",
      "  browser = webdriver.Firefox(firefox_options=fireFoxOptions)\n"
     ]
    },
    {
     "name": "stdout",
     "output_type": "stream",
     "text": [
      "f41f722f-bd0d-40ac-a044-a9bf9da2b407\n"
     ]
    },
    {
     "name": "stderr",
     "output_type": "stream",
     "text": [
      "<ipython-input-6-ea4c51657731>:3: DeprecationWarning: use options instead of firefox_options\n",
      "  browser = webdriver.Firefox(firefox_options=fireFoxOptions)\n"
     ]
    },
    {
     "name": "stdout",
     "output_type": "stream",
     "text": [
      "fd704044-7ad1-4b4c-a6cb-6428f6f72a4b\n"
     ]
    },
    {
     "name": "stderr",
     "output_type": "stream",
     "text": [
      "<ipython-input-6-ea4c51657731>:3: DeprecationWarning: use options instead of firefox_options\n",
      "  browser = webdriver.Firefox(firefox_options=fireFoxOptions)\n"
     ]
    },
    {
     "name": "stdout",
     "output_type": "stream",
     "text": [
      "1b8aaa09-4d66-4f13-b220-9c25b087b512\n"
     ]
    },
    {
     "name": "stderr",
     "output_type": "stream",
     "text": [
      "<ipython-input-6-ea4c51657731>:3: DeprecationWarning: use options instead of firefox_options\n",
      "  browser = webdriver.Firefox(firefox_options=fireFoxOptions)\n"
     ]
    },
    {
     "name": "stdout",
     "output_type": "stream",
     "text": [
      "46541557-4efd-4103-85fc-9d3942c92db1\n"
     ]
    },
    {
     "name": "stderr",
     "output_type": "stream",
     "text": [
      "<ipython-input-6-ea4c51657731>:3: DeprecationWarning: use options instead of firefox_options\n",
      "  browser = webdriver.Firefox(firefox_options=fireFoxOptions)\n"
     ]
    },
    {
     "name": "stdout",
     "output_type": "stream",
     "text": [
      "cb3af578-bcf2-48cb-9f5c-5cf1108a6ae7\n"
     ]
    },
    {
     "name": "stderr",
     "output_type": "stream",
     "text": [
      "<ipython-input-6-ea4c51657731>:3: DeprecationWarning: use options instead of firefox_options\n",
      "  browser = webdriver.Firefox(firefox_options=fireFoxOptions)\n"
     ]
    },
    {
     "name": "stdout",
     "output_type": "stream",
     "text": [
      "63cc6ad0-b6a9-47e0-a907-20534c4e817e\n"
     ]
    },
    {
     "name": "stderr",
     "output_type": "stream",
     "text": [
      "<ipython-input-6-ea4c51657731>:3: DeprecationWarning: use options instead of firefox_options\n",
      "  browser = webdriver.Firefox(firefox_options=fireFoxOptions)\n"
     ]
    },
    {
     "name": "stdout",
     "output_type": "stream",
     "text": [
      "967547f1-e673-4660-a2fb-949098ea8567\n"
     ]
    },
    {
     "name": "stderr",
     "output_type": "stream",
     "text": [
      "<ipython-input-6-ea4c51657731>:3: DeprecationWarning: use options instead of firefox_options\n",
      "  browser = webdriver.Firefox(firefox_options=fireFoxOptions)\n"
     ]
    },
    {
     "name": "stdout",
     "output_type": "stream",
     "text": [
      "2b6b4fd7-f49b-4ee3-9c83-b3953997f424\n"
     ]
    },
    {
     "name": "stderr",
     "output_type": "stream",
     "text": [
      "<ipython-input-6-ea4c51657731>:3: DeprecationWarning: use options instead of firefox_options\n",
      "  browser = webdriver.Firefox(firefox_options=fireFoxOptions)\n"
     ]
    },
    {
     "name": "stdout",
     "output_type": "stream",
     "text": [
      "cf25e45b-1534-4cc5-896a-3388e33fba45\n"
     ]
    },
    {
     "name": "stderr",
     "output_type": "stream",
     "text": [
      "<ipython-input-6-ea4c51657731>:3: DeprecationWarning: use options instead of firefox_options\n",
      "  browser = webdriver.Firefox(firefox_options=fireFoxOptions)\n"
     ]
    },
    {
     "name": "stdout",
     "output_type": "stream",
     "text": [
      "d6988ebc-0502-4e06-a3af-5a8cf86ee6bd\n"
     ]
    },
    {
     "name": "stderr",
     "output_type": "stream",
     "text": [
      "<ipython-input-6-ea4c51657731>:3: DeprecationWarning: use options instead of firefox_options\n",
      "  browser = webdriver.Firefox(firefox_options=fireFoxOptions)\n"
     ]
    },
    {
     "name": "stdout",
     "output_type": "stream",
     "text": [
      "5f47cee1-cdf8-47a9-ac8f-f42fe927eeb8\n"
     ]
    },
    {
     "name": "stderr",
     "output_type": "stream",
     "text": [
      "<ipython-input-6-ea4c51657731>:3: DeprecationWarning: use options instead of firefox_options\n",
      "  browser = webdriver.Firefox(firefox_options=fireFoxOptions)\n"
     ]
    },
    {
     "name": "stdout",
     "output_type": "stream",
     "text": [
      "fe5eb535-fdaf-4bb4-b454-be7c0a803a05\n"
     ]
    },
    {
     "name": "stderr",
     "output_type": "stream",
     "text": [
      "<ipython-input-6-ea4c51657731>:3: DeprecationWarning: use options instead of firefox_options\n",
      "  browser = webdriver.Firefox(firefox_options=fireFoxOptions)\n"
     ]
    },
    {
     "name": "stdout",
     "output_type": "stream",
     "text": [
      "66ebdc5a-5b4b-4274-ae90-67e755639768\n"
     ]
    },
    {
     "name": "stderr",
     "output_type": "stream",
     "text": [
      "<ipython-input-6-ea4c51657731>:3: DeprecationWarning: use options instead of firefox_options\n",
      "  browser = webdriver.Firefox(firefox_options=fireFoxOptions)\n"
     ]
    },
    {
     "name": "stdout",
     "output_type": "stream",
     "text": [
      "e1d5bb72-6f37-41ca-93a7-7cce0c1da216\n"
     ]
    },
    {
     "name": "stderr",
     "output_type": "stream",
     "text": [
      "<ipython-input-6-ea4c51657731>:3: DeprecationWarning: use options instead of firefox_options\n",
      "  browser = webdriver.Firefox(firefox_options=fireFoxOptions)\n"
     ]
    },
    {
     "name": "stdout",
     "output_type": "stream",
     "text": [
      "b1233a65-e7cd-4958-8b8d-dc4a09c6461c\n"
     ]
    },
    {
     "name": "stderr",
     "output_type": "stream",
     "text": [
      "<ipython-input-6-ea4c51657731>:3: DeprecationWarning: use options instead of firefox_options\n",
      "  browser = webdriver.Firefox(firefox_options=fireFoxOptions)\n"
     ]
    },
    {
     "name": "stdout",
     "output_type": "stream",
     "text": [
      "e3c217b1-9d7e-4173-bc69-7e7b734dfb68\n"
     ]
    },
    {
     "name": "stderr",
     "output_type": "stream",
     "text": [
      "<ipython-input-6-ea4c51657731>:3: DeprecationWarning: use options instead of firefox_options\n",
      "  browser = webdriver.Firefox(firefox_options=fireFoxOptions)\n"
     ]
    },
    {
     "name": "stdout",
     "output_type": "stream",
     "text": [
      "c530aa5b-d8d2-481f-af9c-28081426cd16\n"
     ]
    },
    {
     "name": "stderr",
     "output_type": "stream",
     "text": [
      "<ipython-input-6-ea4c51657731>:3: DeprecationWarning: use options instead of firefox_options\n",
      "  browser = webdriver.Firefox(firefox_options=fireFoxOptions)\n"
     ]
    },
    {
     "name": "stdout",
     "output_type": "stream",
     "text": [
      "7564989c-751f-4344-80f2-85ce1ae09ae6\n"
     ]
    },
    {
     "name": "stderr",
     "output_type": "stream",
     "text": [
      "<ipython-input-6-ea4c51657731>:3: DeprecationWarning: use options instead of firefox_options\n",
      "  browser = webdriver.Firefox(firefox_options=fireFoxOptions)\n"
     ]
    },
    {
     "name": "stdout",
     "output_type": "stream",
     "text": [
      "a6ab6eb6-96e5-49d8-abe6-c4ddac11822a\n"
     ]
    },
    {
     "name": "stderr",
     "output_type": "stream",
     "text": [
      "<ipython-input-6-ea4c51657731>:3: DeprecationWarning: use options instead of firefox_options\n",
      "  browser = webdriver.Firefox(firefox_options=fireFoxOptions)\n"
     ]
    },
    {
     "name": "stdout",
     "output_type": "stream",
     "text": [
      "188f1a0c-9f9e-401e-b474-3594df1c7092\n"
     ]
    },
    {
     "name": "stderr",
     "output_type": "stream",
     "text": [
      "<ipython-input-6-ea4c51657731>:3: DeprecationWarning: use options instead of firefox_options\n",
      "  browser = webdriver.Firefox(firefox_options=fireFoxOptions)\n"
     ]
    },
    {
     "name": "stdout",
     "output_type": "stream",
     "text": [
      "11344006-aa38-4864-b4fe-63d3ad3c1bc2\n"
     ]
    },
    {
     "name": "stderr",
     "output_type": "stream",
     "text": [
      "<ipython-input-6-ea4c51657731>:3: DeprecationWarning: use options instead of firefox_options\n",
      "  browser = webdriver.Firefox(firefox_options=fireFoxOptions)\n"
     ]
    },
    {
     "name": "stdout",
     "output_type": "stream",
     "text": [
      "6d401c00-4629-4638-8bbe-1bb1e71b365c\n"
     ]
    },
    {
     "name": "stderr",
     "output_type": "stream",
     "text": [
      "<ipython-input-6-ea4c51657731>:3: DeprecationWarning: use options instead of firefox_options\n",
      "  browser = webdriver.Firefox(firefox_options=fireFoxOptions)\n"
     ]
    },
    {
     "name": "stdout",
     "output_type": "stream",
     "text": [
      "492d16f0-eabd-409c-ac20-f9fcdfee626a\n"
     ]
    },
    {
     "name": "stderr",
     "output_type": "stream",
     "text": [
      "<ipython-input-6-ea4c51657731>:3: DeprecationWarning: use options instead of firefox_options\n",
      "  browser = webdriver.Firefox(firefox_options=fireFoxOptions)\n"
     ]
    },
    {
     "name": "stdout",
     "output_type": "stream",
     "text": [
      "bdf175eb-1e09-46a7-a9b5-002ad7616f10\n"
     ]
    },
    {
     "name": "stderr",
     "output_type": "stream",
     "text": [
      "<ipython-input-6-ea4c51657731>:3: DeprecationWarning: use options instead of firefox_options\n",
      "  browser = webdriver.Firefox(firefox_options=fireFoxOptions)\n"
     ]
    },
    {
     "name": "stdout",
     "output_type": "stream",
     "text": [
      "b2fa5397-44e1-425e-8713-34e97e925304\n"
     ]
    },
    {
     "name": "stderr",
     "output_type": "stream",
     "text": [
      "<ipython-input-6-ea4c51657731>:3: DeprecationWarning: use options instead of firefox_options\n",
      "  browser = webdriver.Firefox(firefox_options=fireFoxOptions)\n"
     ]
    },
    {
     "name": "stdout",
     "output_type": "stream",
     "text": [
      "13ceba07-9b54-4e75-a43e-bbbe60344989\n"
     ]
    },
    {
     "name": "stderr",
     "output_type": "stream",
     "text": [
      "<ipython-input-6-ea4c51657731>:3: DeprecationWarning: use options instead of firefox_options\n",
      "  browser = webdriver.Firefox(firefox_options=fireFoxOptions)\n"
     ]
    },
    {
     "name": "stdout",
     "output_type": "stream",
     "text": [
      "c92d9c5b-56ae-43b0-b6f0-0f3ea10021ff\n"
     ]
    },
    {
     "name": "stderr",
     "output_type": "stream",
     "text": [
      "<ipython-input-6-ea4c51657731>:3: DeprecationWarning: use options instead of firefox_options\n",
      "  browser = webdriver.Firefox(firefox_options=fireFoxOptions)\n"
     ]
    },
    {
     "name": "stdout",
     "output_type": "stream",
     "text": [
      "ccae8351-4684-42f2-b73b-e4aa96bd9401\n"
     ]
    },
    {
     "name": "stderr",
     "output_type": "stream",
     "text": [
      "<ipython-input-6-ea4c51657731>:3: DeprecationWarning: use options instead of firefox_options\n",
      "  browser = webdriver.Firefox(firefox_options=fireFoxOptions)\n"
     ]
    },
    {
     "name": "stdout",
     "output_type": "stream",
     "text": [
      "fdbc1e96-2515-4b03-b546-7bb318253937\n"
     ]
    },
    {
     "name": "stderr",
     "output_type": "stream",
     "text": [
      "<ipython-input-6-ea4c51657731>:3: DeprecationWarning: use options instead of firefox_options\n",
      "  browser = webdriver.Firefox(firefox_options=fireFoxOptions)\n"
     ]
    },
    {
     "name": "stdout",
     "output_type": "stream",
     "text": [
      "6a7f3093-9197-40a4-b404-6e7ed672f52a\n"
     ]
    },
    {
     "name": "stderr",
     "output_type": "stream",
     "text": [
      "<ipython-input-6-ea4c51657731>:3: DeprecationWarning: use options instead of firefox_options\n",
      "  browser = webdriver.Firefox(firefox_options=fireFoxOptions)\n"
     ]
    },
    {
     "name": "stdout",
     "output_type": "stream",
     "text": [
      "643e4660-c1ff-46c2-bcf9-216208302a86\n"
     ]
    },
    {
     "name": "stderr",
     "output_type": "stream",
     "text": [
      "<ipython-input-6-ea4c51657731>:3: DeprecationWarning: use options instead of firefox_options\n",
      "  browser = webdriver.Firefox(firefox_options=fireFoxOptions)\n"
     ]
    },
    {
     "name": "stdout",
     "output_type": "stream",
     "text": [
      "c53e80c0-1d53-4033-80bb-80f76b7f2677\n"
     ]
    },
    {
     "name": "stderr",
     "output_type": "stream",
     "text": [
      "<ipython-input-6-ea4c51657731>:3: DeprecationWarning: use options instead of firefox_options\n",
      "  browser = webdriver.Firefox(firefox_options=fireFoxOptions)\n"
     ]
    },
    {
     "name": "stdout",
     "output_type": "stream",
     "text": [
      "fdb9e23e-3d36-4353-a1a2-062aff5cf936\n"
     ]
    },
    {
     "name": "stderr",
     "output_type": "stream",
     "text": [
      "<ipython-input-6-ea4c51657731>:3: DeprecationWarning: use options instead of firefox_options\n",
      "  browser = webdriver.Firefox(firefox_options=fireFoxOptions)\n"
     ]
    },
    {
     "name": "stdout",
     "output_type": "stream",
     "text": [
      "35c7ac73-7ca5-4f2a-a8ad-eaf577f2b055\n"
     ]
    },
    {
     "name": "stderr",
     "output_type": "stream",
     "text": [
      "<ipython-input-6-ea4c51657731>:3: DeprecationWarning: use options instead of firefox_options\n",
      "  browser = webdriver.Firefox(firefox_options=fireFoxOptions)\n"
     ]
    },
    {
     "name": "stdout",
     "output_type": "stream",
     "text": [
      "03d4c249-fa37-4386-8b71-35b7b546558a\n"
     ]
    },
    {
     "name": "stderr",
     "output_type": "stream",
     "text": [
      "<ipython-input-6-ea4c51657731>:3: DeprecationWarning: use options instead of firefox_options\n",
      "  browser = webdriver.Firefox(firefox_options=fireFoxOptions)\n"
     ]
    },
    {
     "name": "stdout",
     "output_type": "stream",
     "text": [
      "71200e6f-0efc-4b17-ba38-0c4949809652\n"
     ]
    },
    {
     "name": "stderr",
     "output_type": "stream",
     "text": [
      "<ipython-input-6-ea4c51657731>:3: DeprecationWarning: use options instead of firefox_options\n",
      "  browser = webdriver.Firefox(firefox_options=fireFoxOptions)\n"
     ]
    },
    {
     "name": "stdout",
     "output_type": "stream",
     "text": [
      "dd5cada0-a619-4fcf-bfb6-7a83792861c6\n"
     ]
    },
    {
     "name": "stderr",
     "output_type": "stream",
     "text": [
      "<ipython-input-6-ea4c51657731>:3: DeprecationWarning: use options instead of firefox_options\n",
      "  browser = webdriver.Firefox(firefox_options=fireFoxOptions)\n"
     ]
    },
    {
     "name": "stdout",
     "output_type": "stream",
     "text": [
      "47516b8b-2771-4e6e-a71e-6a980b51a2b9\n"
     ]
    },
    {
     "name": "stderr",
     "output_type": "stream",
     "text": [
      "<ipython-input-6-ea4c51657731>:3: DeprecationWarning: use options instead of firefox_options\n",
      "  browser = webdriver.Firefox(firefox_options=fireFoxOptions)\n"
     ]
    },
    {
     "name": "stdout",
     "output_type": "stream",
     "text": [
      "1e7231df-091f-4dc0-aaf0-f984743e434c\n"
     ]
    },
    {
     "name": "stderr",
     "output_type": "stream",
     "text": [
      "<ipython-input-6-ea4c51657731>:3: DeprecationWarning: use options instead of firefox_options\n",
      "  browser = webdriver.Firefox(firefox_options=fireFoxOptions)\n"
     ]
    },
    {
     "name": "stdout",
     "output_type": "stream",
     "text": [
      "b0a18ecc-277e-4d0b-8d4b-78c4c14b6d37\n"
     ]
    },
    {
     "name": "stderr",
     "output_type": "stream",
     "text": [
      "<ipython-input-6-ea4c51657731>:3: DeprecationWarning: use options instead of firefox_options\n",
      "  browser = webdriver.Firefox(firefox_options=fireFoxOptions)\n"
     ]
    },
    {
     "name": "stdout",
     "output_type": "stream",
     "text": [
      "8a47de72-f331-4933-a0f9-a955e872a0a0\n"
     ]
    },
    {
     "name": "stderr",
     "output_type": "stream",
     "text": [
      "<ipython-input-6-ea4c51657731>:3: DeprecationWarning: use options instead of firefox_options\n",
      "  browser = webdriver.Firefox(firefox_options=fireFoxOptions)\n"
     ]
    },
    {
     "name": "stdout",
     "output_type": "stream",
     "text": [
      "4b80aaad-65e8-4016-bf9c-e2b99eaf7205\n"
     ]
    },
    {
     "name": "stderr",
     "output_type": "stream",
     "text": [
      "<ipython-input-6-ea4c51657731>:3: DeprecationWarning: use options instead of firefox_options\n",
      "  browser = webdriver.Firefox(firefox_options=fireFoxOptions)\n"
     ]
    },
    {
     "name": "stdout",
     "output_type": "stream",
     "text": [
      "ff21fa0b-affd-41c7-8844-82d23b110aec\n"
     ]
    },
    {
     "name": "stderr",
     "output_type": "stream",
     "text": [
      "<ipython-input-6-ea4c51657731>:3: DeprecationWarning: use options instead of firefox_options\n",
      "  browser = webdriver.Firefox(firefox_options=fireFoxOptions)\n"
     ]
    },
    {
     "name": "stdout",
     "output_type": "stream",
     "text": [
      "65f7bb69-2415-4bfd-acb2-83a199b2156c\n"
     ]
    },
    {
     "name": "stderr",
     "output_type": "stream",
     "text": [
      "<ipython-input-6-ea4c51657731>:3: DeprecationWarning: use options instead of firefox_options\n",
      "  browser = webdriver.Firefox(firefox_options=fireFoxOptions)\n"
     ]
    },
    {
     "name": "stdout",
     "output_type": "stream",
     "text": [
      "31283a83-150f-4b2a-a60c-2fa3212b2690\n"
     ]
    },
    {
     "name": "stderr",
     "output_type": "stream",
     "text": [
      "<ipython-input-6-ea4c51657731>:3: DeprecationWarning: use options instead of firefox_options\n",
      "  browser = webdriver.Firefox(firefox_options=fireFoxOptions)\n"
     ]
    },
    {
     "name": "stdout",
     "output_type": "stream",
     "text": [
      "d352b059-ce93-42de-9724-48f0909c74b1\n"
     ]
    },
    {
     "name": "stderr",
     "output_type": "stream",
     "text": [
      "<ipython-input-6-ea4c51657731>:3: DeprecationWarning: use options instead of firefox_options\n",
      "  browser = webdriver.Firefox(firefox_options=fireFoxOptions)\n"
     ]
    },
    {
     "name": "stdout",
     "output_type": "stream",
     "text": [
      "03ced35e-f006-4ef0-a3bc-c87796590652\n"
     ]
    },
    {
     "name": "stderr",
     "output_type": "stream",
     "text": [
      "<ipython-input-6-ea4c51657731>:3: DeprecationWarning: use options instead of firefox_options\n",
      "  browser = webdriver.Firefox(firefox_options=fireFoxOptions)\n"
     ]
    },
    {
     "name": "stdout",
     "output_type": "stream",
     "text": [
      "45788598-a1d9-40b9-8309-16a245abb271\n"
     ]
    },
    {
     "name": "stderr",
     "output_type": "stream",
     "text": [
      "<ipython-input-6-ea4c51657731>:3: DeprecationWarning: use options instead of firefox_options\n",
      "  browser = webdriver.Firefox(firefox_options=fireFoxOptions)\n"
     ]
    },
    {
     "name": "stdout",
     "output_type": "stream",
     "text": [
      "536af103-ed7e-4257-9c48-ae8106f5879e\n"
     ]
    },
    {
     "name": "stderr",
     "output_type": "stream",
     "text": [
      "<ipython-input-6-ea4c51657731>:3: DeprecationWarning: use options instead of firefox_options\n",
      "  browser = webdriver.Firefox(firefox_options=fireFoxOptions)\n"
     ]
    },
    {
     "name": "stdout",
     "output_type": "stream",
     "text": [
      "31a18a00-02f5-4126-a8d2-2ff7a285fab2\n"
     ]
    },
    {
     "name": "stderr",
     "output_type": "stream",
     "text": [
      "<ipython-input-6-ea4c51657731>:3: DeprecationWarning: use options instead of firefox_options\n",
      "  browser = webdriver.Firefox(firefox_options=fireFoxOptions)\n"
     ]
    },
    {
     "name": "stdout",
     "output_type": "stream",
     "text": [
      "86c8818c-0da0-46d4-ad83-f6b44d2bbef1\n"
     ]
    },
    {
     "name": "stderr",
     "output_type": "stream",
     "text": [
      "<ipython-input-6-ea4c51657731>:3: DeprecationWarning: use options instead of firefox_options\n",
      "  browser = webdriver.Firefox(firefox_options=fireFoxOptions)\n"
     ]
    },
    {
     "name": "stdout",
     "output_type": "stream",
     "text": [
      "f000f61f-6cbc-47c3-b071-6cdf8f8075d1\n"
     ]
    },
    {
     "name": "stderr",
     "output_type": "stream",
     "text": [
      "<ipython-input-6-ea4c51657731>:3: DeprecationWarning: use options instead of firefox_options\n",
      "  browser = webdriver.Firefox(firefox_options=fireFoxOptions)\n"
     ]
    },
    {
     "name": "stdout",
     "output_type": "stream",
     "text": [
      "70730926-70f0-4c6a-832b-fdcec17ea1dc\n"
     ]
    },
    {
     "name": "stderr",
     "output_type": "stream",
     "text": [
      "<ipython-input-6-ea4c51657731>:3: DeprecationWarning: use options instead of firefox_options\n",
      "  browser = webdriver.Firefox(firefox_options=fireFoxOptions)\n"
     ]
    },
    {
     "name": "stdout",
     "output_type": "stream",
     "text": [
      "8cd5fd8f-24de-44f6-8fc5-82d025c0ea56\n"
     ]
    },
    {
     "name": "stderr",
     "output_type": "stream",
     "text": [
      "<ipython-input-6-ea4c51657731>:3: DeprecationWarning: use options instead of firefox_options\n",
      "  browser = webdriver.Firefox(firefox_options=fireFoxOptions)\n"
     ]
    },
    {
     "name": "stdout",
     "output_type": "stream",
     "text": [
      "b0f95883-748a-4c8d-8cb9-22f292a00e71\n"
     ]
    },
    {
     "name": "stderr",
     "output_type": "stream",
     "text": [
      "<ipython-input-6-ea4c51657731>:3: DeprecationWarning: use options instead of firefox_options\n",
      "  browser = webdriver.Firefox(firefox_options=fireFoxOptions)\n"
     ]
    },
    {
     "name": "stdout",
     "output_type": "stream",
     "text": [
      "1fca38d7-4c23-47ab-9fe0-f2ae49eb36ea\n"
     ]
    },
    {
     "name": "stderr",
     "output_type": "stream",
     "text": [
      "<ipython-input-6-ea4c51657731>:3: DeprecationWarning: use options instead of firefox_options\n",
      "  browser = webdriver.Firefox(firefox_options=fireFoxOptions)\n"
     ]
    },
    {
     "name": "stdout",
     "output_type": "stream",
     "text": [
      "31deca6c-e8b3-4774-b3bb-0ba3a4e4564b\n"
     ]
    },
    {
     "name": "stderr",
     "output_type": "stream",
     "text": [
      "<ipython-input-6-ea4c51657731>:3: DeprecationWarning: use options instead of firefox_options\n",
      "  browser = webdriver.Firefox(firefox_options=fireFoxOptions)\n"
     ]
    },
    {
     "name": "stdout",
     "output_type": "stream",
     "text": [
      "7617ebe4-abd2-4026-ac71-1397d5379c07\n"
     ]
    },
    {
     "name": "stderr",
     "output_type": "stream",
     "text": [
      "<ipython-input-6-ea4c51657731>:3: DeprecationWarning: use options instead of firefox_options\n",
      "  browser = webdriver.Firefox(firefox_options=fireFoxOptions)\n"
     ]
    },
    {
     "name": "stdout",
     "output_type": "stream",
     "text": [
      "714d4b9b-97a4-4920-b1b7-a660311acf34\n"
     ]
    },
    {
     "name": "stderr",
     "output_type": "stream",
     "text": [
      "<ipython-input-6-ea4c51657731>:3: DeprecationWarning: use options instead of firefox_options\n",
      "  browser = webdriver.Firefox(firefox_options=fireFoxOptions)\n"
     ]
    },
    {
     "name": "stdout",
     "output_type": "stream",
     "text": [
      "beac0c3f-03db-4518-87e6-771b548d56a1\n"
     ]
    },
    {
     "name": "stderr",
     "output_type": "stream",
     "text": [
      "<ipython-input-6-ea4c51657731>:3: DeprecationWarning: use options instead of firefox_options\n",
      "  browser = webdriver.Firefox(firefox_options=fireFoxOptions)\n"
     ]
    },
    {
     "name": "stdout",
     "output_type": "stream",
     "text": [
      "bf9ff2f2-7c35-421e-ba91-604fc8f2b18e\n"
     ]
    },
    {
     "name": "stderr",
     "output_type": "stream",
     "text": [
      "<ipython-input-6-ea4c51657731>:3: DeprecationWarning: use options instead of firefox_options\n",
      "  browser = webdriver.Firefox(firefox_options=fireFoxOptions)\n"
     ]
    },
    {
     "name": "stdout",
     "output_type": "stream",
     "text": [
      "d09f777a-d93f-4fb6-a56e-8be27d9ce97b\n"
     ]
    },
    {
     "name": "stderr",
     "output_type": "stream",
     "text": [
      "<ipython-input-6-ea4c51657731>:3: DeprecationWarning: use options instead of firefox_options\n",
      "  browser = webdriver.Firefox(firefox_options=fireFoxOptions)\n"
     ]
    },
    {
     "name": "stdout",
     "output_type": "stream",
     "text": [
      "ebce8844-e877-4762-bd29-8165a3cb95a2\n"
     ]
    },
    {
     "name": "stderr",
     "output_type": "stream",
     "text": [
      "<ipython-input-6-ea4c51657731>:3: DeprecationWarning: use options instead of firefox_options\n",
      "  browser = webdriver.Firefox(firefox_options=fireFoxOptions)\n"
     ]
    },
    {
     "name": "stdout",
     "output_type": "stream",
     "text": [
      "cc86cd4b-4903-4283-bf85-a869e07a9d40\n"
     ]
    },
    {
     "name": "stderr",
     "output_type": "stream",
     "text": [
      "<ipython-input-6-ea4c51657731>:3: DeprecationWarning: use options instead of firefox_options\n",
      "  browser = webdriver.Firefox(firefox_options=fireFoxOptions)\n"
     ]
    },
    {
     "name": "stdout",
     "output_type": "stream",
     "text": [
      "9cd90993-d39e-4ff1-acd8-7b1b6f1bda4c\n"
     ]
    },
    {
     "name": "stderr",
     "output_type": "stream",
     "text": [
      "<ipython-input-6-ea4c51657731>:3: DeprecationWarning: use options instead of firefox_options\n",
      "  browser = webdriver.Firefox(firefox_options=fireFoxOptions)\n"
     ]
    },
    {
     "name": "stdout",
     "output_type": "stream",
     "text": [
      "b7356d50-7cb6-412f-937e-329c07724376\n"
     ]
    },
    {
     "name": "stderr",
     "output_type": "stream",
     "text": [
      "<ipython-input-6-ea4c51657731>:3: DeprecationWarning: use options instead of firefox_options\n",
      "  browser = webdriver.Firefox(firefox_options=fireFoxOptions)\n"
     ]
    },
    {
     "name": "stdout",
     "output_type": "stream",
     "text": [
      "293ea27e-b6c2-49ca-9059-32285b1fc35b\n"
     ]
    },
    {
     "name": "stderr",
     "output_type": "stream",
     "text": [
      "<ipython-input-6-ea4c51657731>:3: DeprecationWarning: use options instead of firefox_options\n",
      "  browser = webdriver.Firefox(firefox_options=fireFoxOptions)\n"
     ]
    },
    {
     "name": "stdout",
     "output_type": "stream",
     "text": [
      "75595078-eab2-476d-9774-a380b582fe39\n"
     ]
    },
    {
     "name": "stderr",
     "output_type": "stream",
     "text": [
      "<ipython-input-6-ea4c51657731>:3: DeprecationWarning: use options instead of firefox_options\n",
      "  browser = webdriver.Firefox(firefox_options=fireFoxOptions)\n"
     ]
    },
    {
     "name": "stdout",
     "output_type": "stream",
     "text": [
      "201a4073-62f1-4a39-a23e-c4a3409512f0\n"
     ]
    },
    {
     "name": "stderr",
     "output_type": "stream",
     "text": [
      "<ipython-input-6-ea4c51657731>:3: DeprecationWarning: use options instead of firefox_options\n",
      "  browser = webdriver.Firefox(firefox_options=fireFoxOptions)\n"
     ]
    },
    {
     "name": "stdout",
     "output_type": "stream",
     "text": [
      "d058f7fa-6793-47ba-9feb-ca20402e341d\n"
     ]
    },
    {
     "name": "stderr",
     "output_type": "stream",
     "text": [
      "<ipython-input-6-ea4c51657731>:3: DeprecationWarning: use options instead of firefox_options\n",
      "  browser = webdriver.Firefox(firefox_options=fireFoxOptions)\n"
     ]
    },
    {
     "name": "stdout",
     "output_type": "stream",
     "text": [
      "1d76b2f6-dec2-46e5-888f-f5f5b3f451e0\n"
     ]
    },
    {
     "name": "stderr",
     "output_type": "stream",
     "text": [
      "<ipython-input-6-ea4c51657731>:3: DeprecationWarning: use options instead of firefox_options\n",
      "  browser = webdriver.Firefox(firefox_options=fireFoxOptions)\n"
     ]
    },
    {
     "name": "stdout",
     "output_type": "stream",
     "text": [
      "f5a35d02-8c77-4d62-977f-641dc4891042\n"
     ]
    },
    {
     "name": "stderr",
     "output_type": "stream",
     "text": [
      "<ipython-input-6-ea4c51657731>:3: DeprecationWarning: use options instead of firefox_options\n",
      "  browser = webdriver.Firefox(firefox_options=fireFoxOptions)\n"
     ]
    },
    {
     "name": "stdout",
     "output_type": "stream",
     "text": [
      "8087f7f9-54a1-462b-9bcc-72329dfdeed8\n"
     ]
    },
    {
     "name": "stderr",
     "output_type": "stream",
     "text": [
      "<ipython-input-6-ea4c51657731>:3: DeprecationWarning: use options instead of firefox_options\n",
      "  browser = webdriver.Firefox(firefox_options=fireFoxOptions)\n"
     ]
    },
    {
     "name": "stdout",
     "output_type": "stream",
     "text": [
      "201b7005-3aac-4bf6-87f6-8e70cf234385\n"
     ]
    },
    {
     "name": "stderr",
     "output_type": "stream",
     "text": [
      "<ipython-input-6-ea4c51657731>:3: DeprecationWarning: use options instead of firefox_options\n",
      "  browser = webdriver.Firefox(firefox_options=fireFoxOptions)\n"
     ]
    },
    {
     "name": "stdout",
     "output_type": "stream",
     "text": [
      "bcd14e6a-3b25-429d-b717-efdd292be3b3\n"
     ]
    },
    {
     "name": "stderr",
     "output_type": "stream",
     "text": [
      "<ipython-input-6-ea4c51657731>:3: DeprecationWarning: use options instead of firefox_options\n",
      "  browser = webdriver.Firefox(firefox_options=fireFoxOptions)\n"
     ]
    },
    {
     "name": "stdout",
     "output_type": "stream",
     "text": [
      "a2482a75-78d0-47cd-ba5b-25b0f7cb1d99\n"
     ]
    },
    {
     "name": "stderr",
     "output_type": "stream",
     "text": [
      "<ipython-input-6-ea4c51657731>:3: DeprecationWarning: use options instead of firefox_options\n",
      "  browser = webdriver.Firefox(firefox_options=fireFoxOptions)\n"
     ]
    },
    {
     "name": "stdout",
     "output_type": "stream",
     "text": [
      "13e3b519-5bbb-43c4-be4b-b3c1dff79781\n"
     ]
    },
    {
     "name": "stderr",
     "output_type": "stream",
     "text": [
      "<ipython-input-6-ea4c51657731>:3: DeprecationWarning: use options instead of firefox_options\n",
      "  browser = webdriver.Firefox(firefox_options=fireFoxOptions)\n"
     ]
    },
    {
     "name": "stdout",
     "output_type": "stream",
     "text": [
      "e7afa788-ba09-4f45-be4d-66db84a8bf67\n"
     ]
    },
    {
     "name": "stderr",
     "output_type": "stream",
     "text": [
      "<ipython-input-6-ea4c51657731>:3: DeprecationWarning: use options instead of firefox_options\n",
      "  browser = webdriver.Firefox(firefox_options=fireFoxOptions)\n"
     ]
    },
    {
     "name": "stdout",
     "output_type": "stream",
     "text": [
      "3a80faac-ad1a-4400-8163-bf779c838668\n"
     ]
    },
    {
     "name": "stderr",
     "output_type": "stream",
     "text": [
      "<ipython-input-6-ea4c51657731>:3: DeprecationWarning: use options instead of firefox_options\n",
      "  browser = webdriver.Firefox(firefox_options=fireFoxOptions)\n"
     ]
    },
    {
     "name": "stdout",
     "output_type": "stream",
     "text": [
      "f1775a4d-3d16-4f46-946a-be199cf5fab9\n"
     ]
    },
    {
     "name": "stderr",
     "output_type": "stream",
     "text": [
      "<ipython-input-6-ea4c51657731>:3: DeprecationWarning: use options instead of firefox_options\n",
      "  browser = webdriver.Firefox(firefox_options=fireFoxOptions)\n"
     ]
    },
    {
     "name": "stdout",
     "output_type": "stream",
     "text": [
      "897a1dc8-2afb-485d-8c71-77c74baeff0f\n"
     ]
    },
    {
     "name": "stderr",
     "output_type": "stream",
     "text": [
      "<ipython-input-6-ea4c51657731>:3: DeprecationWarning: use options instead of firefox_options\n",
      "  browser = webdriver.Firefox(firefox_options=fireFoxOptions)\n"
     ]
    },
    {
     "name": "stdout",
     "output_type": "stream",
     "text": [
      "e696a818-6328-41a3-a481-b90c7011d5ad\n"
     ]
    },
    {
     "name": "stderr",
     "output_type": "stream",
     "text": [
      "<ipython-input-6-ea4c51657731>:3: DeprecationWarning: use options instead of firefox_options\n",
      "  browser = webdriver.Firefox(firefox_options=fireFoxOptions)\n"
     ]
    },
    {
     "name": "stdout",
     "output_type": "stream",
     "text": [
      "c0ebcd7b-36e7-4154-b928-cbdf8356d8c2\n"
     ]
    },
    {
     "name": "stderr",
     "output_type": "stream",
     "text": [
      "<ipython-input-6-ea4c51657731>:3: DeprecationWarning: use options instead of firefox_options\n",
      "  browser = webdriver.Firefox(firefox_options=fireFoxOptions)\n"
     ]
    },
    {
     "name": "stdout",
     "output_type": "stream",
     "text": [
      "b22a915e-df73-4bb9-aa07-7d80fafb72c7\n"
     ]
    },
    {
     "name": "stderr",
     "output_type": "stream",
     "text": [
      "<ipython-input-6-ea4c51657731>:3: DeprecationWarning: use options instead of firefox_options\n",
      "  browser = webdriver.Firefox(firefox_options=fireFoxOptions)\n"
     ]
    },
    {
     "name": "stdout",
     "output_type": "stream",
     "text": [
      "cff87102-a066-4a98-b41e-043308e59ebd\n"
     ]
    },
    {
     "name": "stderr",
     "output_type": "stream",
     "text": [
      "<ipython-input-6-ea4c51657731>:3: DeprecationWarning: use options instead of firefox_options\n",
      "  browser = webdriver.Firefox(firefox_options=fireFoxOptions)\n"
     ]
    },
    {
     "name": "stdout",
     "output_type": "stream",
     "text": [
      "60e1f02a-fa8d-4a1b-85ad-c1f87a3a7e21\n"
     ]
    },
    {
     "name": "stderr",
     "output_type": "stream",
     "text": [
      "<ipython-input-6-ea4c51657731>:3: DeprecationWarning: use options instead of firefox_options\n",
      "  browser = webdriver.Firefox(firefox_options=fireFoxOptions)\n"
     ]
    },
    {
     "name": "stdout",
     "output_type": "stream",
     "text": [
      "86dc9ac8-f01d-4355-93f0-90686250525a\n"
     ]
    },
    {
     "name": "stderr",
     "output_type": "stream",
     "text": [
      "<ipython-input-6-ea4c51657731>:3: DeprecationWarning: use options instead of firefox_options\n",
      "  browser = webdriver.Firefox(firefox_options=fireFoxOptions)\n"
     ]
    },
    {
     "name": "stdout",
     "output_type": "stream",
     "text": [
      "befda6fb-d0a7-4b5e-b4c3-e75176daaec4\n"
     ]
    },
    {
     "name": "stderr",
     "output_type": "stream",
     "text": [
      "<ipython-input-6-ea4c51657731>:3: DeprecationWarning: use options instead of firefox_options\n",
      "  browser = webdriver.Firefox(firefox_options=fireFoxOptions)\n"
     ]
    },
    {
     "name": "stdout",
     "output_type": "stream",
     "text": [
      "c7be026f-2a6a-41cf-b366-5da228837d4e\n"
     ]
    },
    {
     "name": "stderr",
     "output_type": "stream",
     "text": [
      "<ipython-input-6-ea4c51657731>:3: DeprecationWarning: use options instead of firefox_options\n",
      "  browser = webdriver.Firefox(firefox_options=fireFoxOptions)\n"
     ]
    },
    {
     "name": "stdout",
     "output_type": "stream",
     "text": [
      "ce43754b-a040-4c8f-9032-f965e32fac5a\n"
     ]
    },
    {
     "name": "stderr",
     "output_type": "stream",
     "text": [
      "<ipython-input-6-ea4c51657731>:3: DeprecationWarning: use options instead of firefox_options\n",
      "  browser = webdriver.Firefox(firefox_options=fireFoxOptions)\n"
     ]
    },
    {
     "name": "stdout",
     "output_type": "stream",
     "text": [
      "f23b1391-9121-43d9-89d7-1f9642b62580\n"
     ]
    },
    {
     "name": "stderr",
     "output_type": "stream",
     "text": [
      "<ipython-input-6-ea4c51657731>:3: DeprecationWarning: use options instead of firefox_options\n",
      "  browser = webdriver.Firefox(firefox_options=fireFoxOptions)\n"
     ]
    },
    {
     "name": "stdout",
     "output_type": "stream",
     "text": [
      "2ad2442e-cee2-4ce7-a248-20911576370d\n"
     ]
    },
    {
     "name": "stderr",
     "output_type": "stream",
     "text": [
      "<ipython-input-6-ea4c51657731>:3: DeprecationWarning: use options instead of firefox_options\n",
      "  browser = webdriver.Firefox(firefox_options=fireFoxOptions)\n"
     ]
    },
    {
     "name": "stdout",
     "output_type": "stream",
     "text": [
      "6b62613e-bd28-4373-9f78-463b5c485688\n"
     ]
    },
    {
     "name": "stderr",
     "output_type": "stream",
     "text": [
      "<ipython-input-6-ea4c51657731>:3: DeprecationWarning: use options instead of firefox_options\n",
      "  browser = webdriver.Firefox(firefox_options=fireFoxOptions)\n"
     ]
    },
    {
     "name": "stdout",
     "output_type": "stream",
     "text": [
      "a5178171-43d6-4670-b6e1-11078641e07a\n"
     ]
    },
    {
     "name": "stderr",
     "output_type": "stream",
     "text": [
      "<ipython-input-6-ea4c51657731>:3: DeprecationWarning: use options instead of firefox_options\n",
      "  browser = webdriver.Firefox(firefox_options=fireFoxOptions)\n"
     ]
    },
    {
     "name": "stdout",
     "output_type": "stream",
     "text": [
      "6de82902-8ed0-4c18-beda-4bba9b698623\n"
     ]
    },
    {
     "name": "stderr",
     "output_type": "stream",
     "text": [
      "<ipython-input-6-ea4c51657731>:3: DeprecationWarning: use options instead of firefox_options\n",
      "  browser = webdriver.Firefox(firefox_options=fireFoxOptions)\n"
     ]
    },
    {
     "name": "stdout",
     "output_type": "stream",
     "text": [
      "35de3545-33b0-4152-8349-7bc26fcd4d4f\n"
     ]
    },
    {
     "name": "stderr",
     "output_type": "stream",
     "text": [
      "<ipython-input-6-ea4c51657731>:3: DeprecationWarning: use options instead of firefox_options\n",
      "  browser = webdriver.Firefox(firefox_options=fireFoxOptions)\n"
     ]
    },
    {
     "name": "stdout",
     "output_type": "stream",
     "text": [
      "b37a0ac8-e12c-4952-845a-b1560c6665ec\n"
     ]
    },
    {
     "name": "stderr",
     "output_type": "stream",
     "text": [
      "<ipython-input-6-ea4c51657731>:3: DeprecationWarning: use options instead of firefox_options\n",
      "  browser = webdriver.Firefox(firefox_options=fireFoxOptions)\n"
     ]
    },
    {
     "name": "stdout",
     "output_type": "stream",
     "text": [
      "2fc635c2-edb6-4e59-9fe3-e7a5fcecef88\n"
     ]
    },
    {
     "name": "stderr",
     "output_type": "stream",
     "text": [
      "<ipython-input-6-ea4c51657731>:3: DeprecationWarning: use options instead of firefox_options\n",
      "  browser = webdriver.Firefox(firefox_options=fireFoxOptions)\n"
     ]
    },
    {
     "name": "stdout",
     "output_type": "stream",
     "text": [
      "eb47abf4-76b2-46ca-b3c5-e5021b51bbc8\n"
     ]
    },
    {
     "name": "stderr",
     "output_type": "stream",
     "text": [
      "<ipython-input-6-ea4c51657731>:3: DeprecationWarning: use options instead of firefox_options\n",
      "  browser = webdriver.Firefox(firefox_options=fireFoxOptions)\n"
     ]
    },
    {
     "name": "stdout",
     "output_type": "stream",
     "text": [
      "191a202e-a710-4331-9c0d-4bc7111fecd6\n"
     ]
    },
    {
     "name": "stderr",
     "output_type": "stream",
     "text": [
      "<ipython-input-6-ea4c51657731>:3: DeprecationWarning: use options instead of firefox_options\n",
      "  browser = webdriver.Firefox(firefox_options=fireFoxOptions)\n"
     ]
    },
    {
     "name": "stdout",
     "output_type": "stream",
     "text": [
      "3b270782-a1d6-4115-bbdb-360a0e4a87d2\n"
     ]
    },
    {
     "name": "stderr",
     "output_type": "stream",
     "text": [
      "<ipython-input-6-ea4c51657731>:3: DeprecationWarning: use options instead of firefox_options\n",
      "  browser = webdriver.Firefox(firefox_options=fireFoxOptions)\n"
     ]
    },
    {
     "name": "stdout",
     "output_type": "stream",
     "text": [
      "50f622e7-3963-42f6-b67f-2a05777733b5\n"
     ]
    },
    {
     "name": "stderr",
     "output_type": "stream",
     "text": [
      "<ipython-input-6-ea4c51657731>:3: DeprecationWarning: use options instead of firefox_options\n",
      "  browser = webdriver.Firefox(firefox_options=fireFoxOptions)\n"
     ]
    },
    {
     "name": "stdout",
     "output_type": "stream",
     "text": [
      "8a8df5b6-152a-4cf6-a9a6-603523d757e5\n"
     ]
    },
    {
     "name": "stderr",
     "output_type": "stream",
     "text": [
      "<ipython-input-6-ea4c51657731>:3: DeprecationWarning: use options instead of firefox_options\n",
      "  browser = webdriver.Firefox(firefox_options=fireFoxOptions)\n"
     ]
    },
    {
     "name": "stdout",
     "output_type": "stream",
     "text": [
      "e9eb0d28-577b-49af-b8d3-00da79b03246\n"
     ]
    },
    {
     "name": "stderr",
     "output_type": "stream",
     "text": [
      "<ipython-input-6-ea4c51657731>:3: DeprecationWarning: use options instead of firefox_options\n",
      "  browser = webdriver.Firefox(firefox_options=fireFoxOptions)\n"
     ]
    },
    {
     "name": "stdout",
     "output_type": "stream",
     "text": [
      "c97758a3-3fcb-41d5-9104-8b07c3bc8958\n"
     ]
    },
    {
     "name": "stderr",
     "output_type": "stream",
     "text": [
      "<ipython-input-6-ea4c51657731>:3: DeprecationWarning: use options instead of firefox_options\n",
      "  browser = webdriver.Firefox(firefox_options=fireFoxOptions)\n"
     ]
    },
    {
     "name": "stdout",
     "output_type": "stream",
     "text": [
      "02dd90b7-c221-40e8-8d4b-0cf57ac723e6\n"
     ]
    },
    {
     "name": "stderr",
     "output_type": "stream",
     "text": [
      "<ipython-input-6-ea4c51657731>:3: DeprecationWarning: use options instead of firefox_options\n",
      "  browser = webdriver.Firefox(firefox_options=fireFoxOptions)\n"
     ]
    },
    {
     "name": "stdout",
     "output_type": "stream",
     "text": [
      "ced39447-5da1-4c65-b24c-329104e7d14a\n"
     ]
    },
    {
     "name": "stderr",
     "output_type": "stream",
     "text": [
      "<ipython-input-6-ea4c51657731>:3: DeprecationWarning: use options instead of firefox_options\n",
      "  browser = webdriver.Firefox(firefox_options=fireFoxOptions)\n"
     ]
    },
    {
     "name": "stdout",
     "output_type": "stream",
     "text": [
      "33fa8222-119e-44b5-8714-a43d5c5d892d\n"
     ]
    },
    {
     "name": "stderr",
     "output_type": "stream",
     "text": [
      "<ipython-input-6-ea4c51657731>:3: DeprecationWarning: use options instead of firefox_options\n",
      "  browser = webdriver.Firefox(firefox_options=fireFoxOptions)\n"
     ]
    },
    {
     "name": "stdout",
     "output_type": "stream",
     "text": [
      "1e3c3137-5f8b-4498-a582-9c2d28739da5\n"
     ]
    },
    {
     "name": "stderr",
     "output_type": "stream",
     "text": [
      "<ipython-input-6-ea4c51657731>:3: DeprecationWarning: use options instead of firefox_options\n",
      "  browser = webdriver.Firefox(firefox_options=fireFoxOptions)\n"
     ]
    },
    {
     "name": "stdout",
     "output_type": "stream",
     "text": [
      "d14132ab-36f4-42a9-86ee-d47129e584bc\n"
     ]
    },
    {
     "name": "stderr",
     "output_type": "stream",
     "text": [
      "<ipython-input-6-ea4c51657731>:3: DeprecationWarning: use options instead of firefox_options\n",
      "  browser = webdriver.Firefox(firefox_options=fireFoxOptions)\n"
     ]
    },
    {
     "name": "stdout",
     "output_type": "stream",
     "text": [
      "5065adcf-6e99-424d-b727-059f82a41b39\n"
     ]
    },
    {
     "name": "stderr",
     "output_type": "stream",
     "text": [
      "<ipython-input-6-ea4c51657731>:3: DeprecationWarning: use options instead of firefox_options\n",
      "  browser = webdriver.Firefox(firefox_options=fireFoxOptions)\n"
     ]
    },
    {
     "name": "stdout",
     "output_type": "stream",
     "text": [
      "a550e13c-3b48-4227-a664-020e60d97e8d\n"
     ]
    },
    {
     "name": "stderr",
     "output_type": "stream",
     "text": [
      "<ipython-input-6-ea4c51657731>:3: DeprecationWarning: use options instead of firefox_options\n",
      "  browser = webdriver.Firefox(firefox_options=fireFoxOptions)\n"
     ]
    },
    {
     "name": "stdout",
     "output_type": "stream",
     "text": [
      "18d961ea-d45b-4b68-9b60-e764b7e11b0a\n"
     ]
    },
    {
     "name": "stderr",
     "output_type": "stream",
     "text": [
      "<ipython-input-6-ea4c51657731>:3: DeprecationWarning: use options instead of firefox_options\n",
      "  browser = webdriver.Firefox(firefox_options=fireFoxOptions)\n"
     ]
    },
    {
     "name": "stdout",
     "output_type": "stream",
     "text": [
      "33a0677b-0e36-4316-a670-df866fd3ac2d\n"
     ]
    },
    {
     "name": "stderr",
     "output_type": "stream",
     "text": [
      "<ipython-input-6-ea4c51657731>:3: DeprecationWarning: use options instead of firefox_options\n",
      "  browser = webdriver.Firefox(firefox_options=fireFoxOptions)\n"
     ]
    },
    {
     "name": "stdout",
     "output_type": "stream",
     "text": [
      "a7d7f331-d294-44b8-b4b4-f30022b39af9\n"
     ]
    },
    {
     "name": "stderr",
     "output_type": "stream",
     "text": [
      "<ipython-input-6-ea4c51657731>:3: DeprecationWarning: use options instead of firefox_options\n",
      "  browser = webdriver.Firefox(firefox_options=fireFoxOptions)\n"
     ]
    },
    {
     "name": "stdout",
     "output_type": "stream",
     "text": [
      "a4f44e9e-02f5-470c-80ed-ebdb5da0d0ab\n"
     ]
    },
    {
     "name": "stderr",
     "output_type": "stream",
     "text": [
      "<ipython-input-6-ea4c51657731>:3: DeprecationWarning: use options instead of firefox_options\n",
      "  browser = webdriver.Firefox(firefox_options=fireFoxOptions)\n"
     ]
    },
    {
     "name": "stdout",
     "output_type": "stream",
     "text": [
      "68137807-4bfb-486e-95d0-18d46f7cb8e7\n"
     ]
    },
    {
     "name": "stderr",
     "output_type": "stream",
     "text": [
      "<ipython-input-6-ea4c51657731>:3: DeprecationWarning: use options instead of firefox_options\n",
      "  browser = webdriver.Firefox(firefox_options=fireFoxOptions)\n"
     ]
    },
    {
     "name": "stdout",
     "output_type": "stream",
     "text": [
      "6e9a1d52-b7d3-416e-b635-4cef84703c9c\n"
     ]
    },
    {
     "name": "stderr",
     "output_type": "stream",
     "text": [
      "<ipython-input-6-ea4c51657731>:3: DeprecationWarning: use options instead of firefox_options\n",
      "  browser = webdriver.Firefox(firefox_options=fireFoxOptions)\n"
     ]
    },
    {
     "name": "stdout",
     "output_type": "stream",
     "text": [
      "fcac0d07-cd17-4cde-a6fd-9641533f5ffe\n"
     ]
    },
    {
     "name": "stderr",
     "output_type": "stream",
     "text": [
      "<ipython-input-6-ea4c51657731>:3: DeprecationWarning: use options instead of firefox_options\n",
      "  browser = webdriver.Firefox(firefox_options=fireFoxOptions)\n"
     ]
    },
    {
     "name": "stdout",
     "output_type": "stream",
     "text": [
      "a7e4638b-f657-4830-9203-f4ffbef37d35\n"
     ]
    },
    {
     "name": "stderr",
     "output_type": "stream",
     "text": [
      "<ipython-input-6-ea4c51657731>:3: DeprecationWarning: use options instead of firefox_options\n",
      "  browser = webdriver.Firefox(firefox_options=fireFoxOptions)\n"
     ]
    },
    {
     "name": "stdout",
     "output_type": "stream",
     "text": [
      "dae59800-0be2-4c06-be17-a80357116787\n"
     ]
    },
    {
     "name": "stderr",
     "output_type": "stream",
     "text": [
      "<ipython-input-6-ea4c51657731>:3: DeprecationWarning: use options instead of firefox_options\n",
      "  browser = webdriver.Firefox(firefox_options=fireFoxOptions)\n"
     ]
    },
    {
     "name": "stdout",
     "output_type": "stream",
     "text": [
      "89cbdf96-5201-4f0a-b091-f2e51241c9cc\n"
     ]
    },
    {
     "name": "stderr",
     "output_type": "stream",
     "text": [
      "<ipython-input-6-ea4c51657731>:3: DeprecationWarning: use options instead of firefox_options\n",
      "  browser = webdriver.Firefox(firefox_options=fireFoxOptions)\n"
     ]
    },
    {
     "name": "stdout",
     "output_type": "stream",
     "text": [
      "3f09f6a0-ec28-406c-b1d2-57dabf407ed6\n"
     ]
    },
    {
     "name": "stderr",
     "output_type": "stream",
     "text": [
      "<ipython-input-6-ea4c51657731>:3: DeprecationWarning: use options instead of firefox_options\n",
      "  browser = webdriver.Firefox(firefox_options=fireFoxOptions)\n"
     ]
    },
    {
     "name": "stdout",
     "output_type": "stream",
     "text": [
      "54bea33d-d79d-4875-8604-108994499e8e\n"
     ]
    },
    {
     "name": "stderr",
     "output_type": "stream",
     "text": [
      "<ipython-input-6-ea4c51657731>:3: DeprecationWarning: use options instead of firefox_options\n",
      "  browser = webdriver.Firefox(firefox_options=fireFoxOptions)\n"
     ]
    },
    {
     "name": "stdout",
     "output_type": "stream",
     "text": [
      "2dd41bad-6550-422d-8d44-430d5e684755\n"
     ]
    },
    {
     "name": "stderr",
     "output_type": "stream",
     "text": [
      "<ipython-input-6-ea4c51657731>:3: DeprecationWarning: use options instead of firefox_options\n",
      "  browser = webdriver.Firefox(firefox_options=fireFoxOptions)\n"
     ]
    },
    {
     "name": "stdout",
     "output_type": "stream",
     "text": [
      "4a37d883-b29e-43d2-b642-6df63397e248\n"
     ]
    },
    {
     "name": "stderr",
     "output_type": "stream",
     "text": [
      "<ipython-input-6-ea4c51657731>:3: DeprecationWarning: use options instead of firefox_options\n",
      "  browser = webdriver.Firefox(firefox_options=fireFoxOptions)\n"
     ]
    },
    {
     "name": "stdout",
     "output_type": "stream",
     "text": [
      "c3d521ba-cf4a-48a4-beba-064c45ee4109\n"
     ]
    },
    {
     "name": "stderr",
     "output_type": "stream",
     "text": [
      "<ipython-input-6-ea4c51657731>:3: DeprecationWarning: use options instead of firefox_options\n",
      "  browser = webdriver.Firefox(firefox_options=fireFoxOptions)\n"
     ]
    },
    {
     "name": "stdout",
     "output_type": "stream",
     "text": [
      "ee7d5dd8-975f-4c84-b55b-2fbf75d5b4be\n"
     ]
    },
    {
     "name": "stderr",
     "output_type": "stream",
     "text": [
      "<ipython-input-6-ea4c51657731>:3: DeprecationWarning: use options instead of firefox_options\n",
      "  browser = webdriver.Firefox(firefox_options=fireFoxOptions)\n"
     ]
    },
    {
     "name": "stdout",
     "output_type": "stream",
     "text": [
      "8908d9e0-c2de-4042-ad05-de83edfd9967\n"
     ]
    },
    {
     "name": "stderr",
     "output_type": "stream",
     "text": [
      "<ipython-input-6-ea4c51657731>:3: DeprecationWarning: use options instead of firefox_options\n",
      "  browser = webdriver.Firefox(firefox_options=fireFoxOptions)\n"
     ]
    },
    {
     "name": "stdout",
     "output_type": "stream",
     "text": [
      "5ed320d5-161d-4a4a-8513-fec1c68574ee\n"
     ]
    },
    {
     "name": "stderr",
     "output_type": "stream",
     "text": [
      "<ipython-input-6-ea4c51657731>:3: DeprecationWarning: use options instead of firefox_options\n",
      "  browser = webdriver.Firefox(firefox_options=fireFoxOptions)\n"
     ]
    },
    {
     "name": "stdout",
     "output_type": "stream",
     "text": [
      "49c30fa9-be6c-4d0d-ae7f-09a129a0e26a\n"
     ]
    },
    {
     "name": "stderr",
     "output_type": "stream",
     "text": [
      "<ipython-input-6-ea4c51657731>:3: DeprecationWarning: use options instead of firefox_options\n",
      "  browser = webdriver.Firefox(firefox_options=fireFoxOptions)\n"
     ]
    },
    {
     "name": "stdout",
     "output_type": "stream",
     "text": [
      "50ceaeef-3a73-4c46-aa62-9a8c4ddf4638\n"
     ]
    },
    {
     "name": "stderr",
     "output_type": "stream",
     "text": [
      "<ipython-input-6-ea4c51657731>:3: DeprecationWarning: use options instead of firefox_options\n",
      "  browser = webdriver.Firefox(firefox_options=fireFoxOptions)\n"
     ]
    }
   ],
   "source": [
    "for i in range(0,1500):\n",
    "    try:\n",
    "        browser = webdriver.Firefox(firefox_options=fireFoxOptions)\n",
    "        browser.get(url)\n",
    "        changed=browser.current_url\n",
    "        changed=changed.split(\"=\")\n",
    "        uuid=changed[1]\n",
    "        print(uuid)\n",
    "        aa=open(\"crawled_uuids_v2.txt\",\"a+\")\n",
    "        aa.write(uuid)\n",
    "        aa.write(\"\\n\")\n",
    "        aa.close()\n",
    "        browser.close()\n",
    "    except:\n",
    "        print(\"Erred\")"
   ]
  },
  {
   "cell_type": "code",
   "execution_count": null,
   "metadata": {},
   "outputs": [],
   "source": []
  }
 ],
 "metadata": {
  "kernelspec": {
   "display_name": "Python 3",
   "language": "python",
   "name": "python3"
  },
  "language_info": {
   "codemirror_mode": {
    "name": "ipython",
    "version": 3
   },
   "file_extension": ".py",
   "mimetype": "text/x-python",
   "name": "python",
   "nbconvert_exporter": "python",
   "pygments_lexer": "ipython3",
   "version": "3.8.5"
  }
 },
 "nbformat": 4,
 "nbformat_minor": 4
}
