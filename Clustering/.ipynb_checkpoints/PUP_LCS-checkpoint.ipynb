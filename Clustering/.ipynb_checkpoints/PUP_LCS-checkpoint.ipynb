{
 "cells": [
  {
   "cell_type": "code",
   "execution_count": 1,
   "metadata": {},
   "outputs": [],
   "source": [
    "## WE ARE USING LCS CODE FROM : https://www.techiedelight.com/longest-common-subsequence-finding-lcs/ \n",
    "\n",
    "# Function to find the longest common subsequence of string `X[0…m-1]` and `Y[0…n-1]`\n",
    "def LCS(X, Y, m, n, T):\n",
    " \n",
    "    # return an empty string if the end of either sequence is reached\n",
    "    if m == 0 or n == 0:\n",
    "        return list()\n",
    " \n",
    "    # if the last character of `X` and `Y` matches\n",
    "    if X[m - 1] == Y[n - 1]:\n",
    "        # append current character (`X[m-1]` or `Y[n-1]`) to LCS of\n",
    "        # substring `X[0…m-2]` and `Y[0…n-2]`\n",
    "        return LCS(X, Y, m - 1, n - 1, T) + [X[m - 1]]\n",
    " \n",
    "    # otherwise, if the last character of `X` and `Y` are different\n",
    " \n",
    "    # if a top cell of the current cell has more value than the left\n",
    "    # cell, then drop the current character of string `X` and find LCS\n",
    "    # of substring `X[0…m-2]`, `Y[0…n-1]`\n",
    " \n",
    "    if T[m - 1][n] > T[m][n - 1]:\n",
    "        return LCS(X, Y, m - 1, n, T)\n",
    "    else:\n",
    "        # if a left cell of the current cell has more value than the top\n",
    "        # cell, then drop the current character of string `Y` and find LCS\n",
    "        # of substring `X[0…m-1]`, `Y[0…n-2]`\n",
    "        return LCS(X, Y, m, n - 1, T)\n",
    " \n",
    " \n",
    "# Function to fill the lookup table by finding the length of LCS\n",
    "# of substring `X[0…m-1]` and `Y[0…n-1]`\n",
    "def LCSLength(X, Y, m, n, T):\n",
    " \n",
    "    # fill the lookup table in a bottom-up manner\n",
    "    for i in range(1, m + 1):\n",
    "        for j in range(1, n + 1):\n",
    "            # if current character of `X` and `Y` matches\n",
    "            if X[i - 1] == Y[j - 1]:\n",
    "                T[i][j] = T[i - 1][j - 1] + 1\n",
    "            # otherwise, if the current character of `X` and `Y` don't match\n",
    "            else:\n",
    "                T[i][j] = max(T[i - 1][j], T[i][j - 1])"
   ]
  },
  {
   "cell_type": "code",
   "execution_count": 2,
   "metadata": {},
   "outputs": [],
   "source": [
    "import pandas as pd\n",
    "df = pd.read_csv('trojan_sys_traces.csv',header=None,sep='\\n') \n",
    "df = df[0].str.split(',', expand=True)\n",
    "rows = df.shape[0] \n",
    "cols = df.shape[1] "
   ]
  },
  {
   "cell_type": "code",
   "execution_count": 3,
   "metadata": {},
   "outputs": [],
   "source": [
    "hash_arrays=[]\n",
    "cc=0\n",
    "for index, row in df.iterrows():\n",
    "    if cc==0:\n",
    "        cc+=1\n",
    "        continue\n",
    "    #print(row[2])\n",
    "    apis=row[2]\n",
    "    lxs=apis.split(\"_\")\n",
    "    lxs.remove(\"\")\n",
    "    hash_arrays.append({\"hash\":row[1],\"calls\":lxs,\"length\":len(lxs)})"
   ]
  },
  {
   "cell_type": "code",
   "execution_count": 4,
   "metadata": {},
   "outputs": [
    {
     "name": "stdout",
     "output_type": "stream",
     "text": [
      "10847\n"
     ]
    }
   ],
   "source": [
    "print(len(hash_arrays))"
   ]
  },
  {
   "cell_type": "code",
   "execution_count": 5,
   "metadata": {},
   "outputs": [],
   "source": [
    "hash_array_sorted= sorted(hash_arrays, key = lambda i: i['length'],reverse=True)\n",
    "hash_array_filtered=hash_array_sorted[0:100]"
   ]
  },
  {
   "cell_type": "code",
   "execution_count": 6,
   "metadata": {},
   "outputs": [
    {
     "name": "stdout",
     "output_type": "stream",
     "text": [
      "4950\n"
     ]
    }
   ],
   "source": [
    "from itertools import combinations \n",
    "dicts_lcs={}\n",
    "all_pairs=list(combinations(hash_array_filtered, 2))\n",
    "print(len(all_pairs))"
   ]
  },
  {
   "cell_type": "code",
   "execution_count": null,
   "metadata": {},
   "outputs": [
    {
     "name": "stdout",
     "output_type": "stream",
     "text": [
      "1\n",
      "2\n",
      "3\n",
      "4\n",
      "5\n",
      "6\n",
      "7\n",
      "8\n",
      "9\n",
      "10\n",
      "11\n",
      "12\n",
      "13\n",
      "14\n",
      "15\n",
      "16\n",
      "17\n",
      "18\n",
      "19\n",
      "20\n",
      "21\n",
      "22\n",
      "23\n",
      "24\n",
      "25\n",
      "26\n",
      "27\n",
      "28\n",
      "29\n",
      "30\n",
      "31\n",
      "32\n",
      "33\n",
      "34\n",
      "35\n",
      "36\n",
      "37\n",
      "38\n",
      "39\n",
      "40\n",
      "41\n",
      "42\n",
      "43\n",
      "44\n",
      "45\n",
      "46\n",
      "47\n",
      "48\n",
      "49\n",
      "50\n",
      "51\n",
      "52\n",
      "53\n",
      "54\n",
      "55\n",
      "56\n",
      "57\n",
      "58\n",
      "59\n",
      "60\n",
      "61\n",
      "62\n",
      "63\n",
      "64\n",
      "65\n",
      "66\n",
      "67\n",
      "68\n",
      "69\n",
      "70\n",
      "71\n",
      "72\n",
      "73\n",
      "74\n",
      "75\n"
     ]
    }
   ],
   "source": [
    "cc=0\n",
    "for item in list(combinations(hash_array_filtered, 2)) :\n",
    "    X=item[0]['calls']\n",
    "    Y=item[1]['calls']\n",
    "    m = len(X)\n",
    "    n = len(Y)\n",
    "\n",
    "    # `T[i][j]` stores the length of LCS of substring `X[0…i-1]` and `Y[0…j-1]`\n",
    "    T = [[0 for x in range(n + 1)] for y in range(m + 1)]\n",
    "    # fill lookup table\n",
    "    LCSLength(X, Y, m, n, T)\n",
    "\n",
    "    # find the longest common sequence\n",
    "    #print(LCS(X, Y, m, n, T))\n",
    "    lcs=len(LCS(X, Y, m, n, T))\n",
    "    dicts_lcs[item[0]['hash']]=lcs\n",
    "    dicts_lcs[item[1]['hash']]=lcs\n",
    "    cc+=1\n",
    "    print(cc)"
   ]
  },
  {
   "cell_type": "code",
   "execution_count": null,
   "metadata": {},
   "outputs": [],
   "source": []
  }
 ],
 "metadata": {
  "kernelspec": {
   "display_name": "Python 3",
   "language": "python",
   "name": "python3"
  },
  "language_info": {
   "codemirror_mode": {
    "name": "ipython",
    "version": 3
   },
   "file_extension": ".py",
   "mimetype": "text/x-python",
   "name": "python",
   "nbconvert_exporter": "python",
   "pygments_lexer": "ipython3",
   "version": "3.8.5"
  }
 },
 "nbformat": 4,
 "nbformat_minor": 4
}
