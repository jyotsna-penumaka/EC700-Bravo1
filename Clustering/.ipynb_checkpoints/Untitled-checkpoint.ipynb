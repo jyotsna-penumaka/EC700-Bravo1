{
 "cells": [
  {
   "cell_type": "code",
   "execution_count": 1,
   "metadata": {},
   "outputs": [
    {
     "name": "stdout",
     "output_type": "stream",
     "text": [
      "['7', '8', '11', '12', '3', '25', '3', '25', '8', '32', '43', '47', '48', '10', '8']\n",
      "15\n"
     ]
    }
   ],
   "source": [
    "## WE ARE USING LCS CODE FROM : https://www.techiedelight.com/longest-common-subsequence-finding-lcs/ \n",
    "\n",
    "# Function to find the longest common subsequence of string `X[0…m-1]` and `Y[0…n-1]`\n",
    "def LCS(X, Y, m, n, T):\n",
    " \n",
    "    # return an empty string if the end of either sequence is reached\n",
    "    if m == 0 or n == 0:\n",
    "        return list()\n",
    " \n",
    "    # if the last character of `X` and `Y` matches\n",
    "    if X[m - 1] == Y[n - 1]:\n",
    "        # append current character (`X[m-1]` or `Y[n-1]`) to LCS of\n",
    "        # substring `X[0…m-2]` and `Y[0…n-2]`\n",
    "        return LCS(X, Y, m - 1, n - 1, T) + [X[m - 1]]\n",
    " \n",
    "    # otherwise, if the last character of `X` and `Y` are different\n",
    " \n",
    "    # if a top cell of the current cell has more value than the left\n",
    "    # cell, then drop the current character of string `X` and find LCS\n",
    "    # of substring `X[0…m-2]`, `Y[0…n-1]`\n",
    " \n",
    "    if T[m - 1][n] > T[m][n - 1]:\n",
    "        return LCS(X, Y, m - 1, n, T)\n",
    "    else:\n",
    "        # if a left cell of the current cell has more value than the top\n",
    "        # cell, then drop the current character of string `Y` and find LCS\n",
    "        # of substring `X[0…m-1]`, `Y[0…n-2]`\n",
    "        return LCS(X, Y, m, n - 1, T)\n",
    " \n",
    " \n",
    "# Function to fill the lookup table by finding the length of LCS\n",
    "# of substring `X[0…m-1]` and `Y[0…n-1]`\n",
    "def LCSLength(X, Y, m, n, T):\n",
    " \n",
    "    # fill the lookup table in a bottom-up manner\n",
    "    for i in range(1, m + 1):\n",
    "        for j in range(1, n + 1):\n",
    "            # if current character of `X` and `Y` matches\n",
    "            if X[i - 1] == Y[j - 1]:\n",
    "                T[i][j] = T[i - 1][j - 1] + 1\n",
    "            # otherwise, if the current character of `X` and `Y` don't match\n",
    "            else:\n",
    "                T[i][j] = max(T[i - 1][j], T[i][j - 1])\n",
    "\n",
    "X = ['1', '2', '3', '4', '5', '6', '7', '8', '9', '10', '11', '12', '13', '14', '15', '16', '17', '18', '3', '19', '20', '21', '13', '22', '23', '24', '8', '25', '26', '27', '28', '29', '30', '14', '15', '13', '3', '19', '20', '21', '25', '8', '22', '23', '31', '26', '27', '32', '29', '33', '34', '35', '36', '37', '8', '9', '38', '39', '40', '3', '41', '34', '36', '35', '42', '43', '8', '44', '45', '46', '47', '48', '49', '50', '51', '52', '8', '5', '4', '53', '48', '47', '54', '3', '55', '56', '29', '10', '57', '58', '59', '60', '48', '47', '25', '8', '51', '61', '62', '63', '64', '65', '66', '67', '68']\n",
    "Y = ['32', '10', '75', '41', '65', '67', '76', '38', '39', '77', '78', '34', '79', '50', '80', '81', '82', '14', '83', '84', '32', '60', '30', '85', '8', '25', '77', '38', '39', '86', '87', '78', '88', '7', '89', '85', '90', '91', '92', '93', '78', '8', '25', '94', '11', '12', '85', '34', '95', '96', '97', '78', '3', '25', '8', '51', '98', '99', '10', '100', '101', '3', '47', '61', '34', '85', '97', '96', '92', '78', '94', '102', '7', '95', '91', '3', '97', '96', '78', '94', '25', '8', '32', '43', '3', '95', '103', '47', '48', '94', '97', '96', '78', '10', '8', '37', '3', '34', '45', '46']\n",
    "\n",
    "m = len(X)\n",
    "n = len(Y)\n",
    "\n",
    "# `T[i][j]` stores the length of LCS of substring `X[0…i-1]` and `Y[0…j-1]`\n",
    "T = [[0 for x in range(n + 1)] for y in range(m + 1)]\n",
    "\n",
    "# fill lookup table\n",
    "LCSLength(X, Y, m, n, T)\n",
    "\n",
    "# find the longest common sequence\n",
    "print(LCS(X, Y, m, n, T))\n",
    "print(len(LCS(X, Y, m, n, T)))"
   ]
  },
  {
   "cell_type": "code",
   "execution_count": 6,
   "metadata": {},
   "outputs": [
    {
     "name": "stdout",
     "output_type": "stream",
     "text": [
      "\n"
     ]
    }
   ],
   "source": [
    "def long_substr(data):\n",
    "    substr = ''\n",
    "    if len(data) > 1 and len(data[0]) > 0:\n",
    "        for i in range(len(data[0])):\n",
    "            for j in range(len(data[0])-i+1):\n",
    "                if j > len(substr) and is_substr(data[0][i:i+j], data):\n",
    "                    substr = data[0][i:i+j]\n",
    "    return substr\n",
    "\n",
    "def is_substr(find, data):\n",
    "    if len(data) < 1 and len(find) < 1:\n",
    "        return False\n",
    "    for i in range(len(data)):\n",
    "        if find not in data[i]:\n",
    "            return False\n",
    "    return True\n",
    "\n",
    "\n",
    "print (long_substr(['Oh, hello, my friend.',\n",
    "                   'I prefer Jelly Belly beans.',\n",
    "                   'When hell freezes over!']))"
   ]
  },
  {
   "cell_type": "code",
   "execution_count": null,
   "metadata": {},
   "outputs": [],
   "source": [
    "\n",
    "def long_substr(data):\n",
    "    substr = ''\n",
    "    if len(data) > 1 and len(data[0]) > 0:\n",
    "        for i in range(len(data[0])):\n",
    "            for j in range(len(data[0])-i+1):\n",
    "                if j > len(substr) and all(data[0][i:i+j] in x for x in data):\n",
    "                    substr = data[0][i:i+j]\n",
    "    return substr"
   ]
  }
 ],
 "metadata": {
  "kernelspec": {
   "display_name": "Python 3",
   "language": "python",
   "name": "python3"
  },
  "language_info": {
   "codemirror_mode": {
    "name": "ipython",
    "version": 3
   },
   "file_extension": ".py",
   "mimetype": "text/x-python",
   "name": "python",
   "nbconvert_exporter": "python",
   "pygments_lexer": "ipython3",
   "version": "3.8.5"
  }
 },
 "nbformat": 4,
 "nbformat_minor": 4
}
