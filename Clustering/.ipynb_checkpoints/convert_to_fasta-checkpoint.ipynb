{
 "cells": [
  {
   "cell_type": "code",
   "execution_count": 12,
   "metadata": {},
   "outputs": [],
   "source": [
    "aa=open(\"encoded_family_relevant.txt\")"
   ]
  },
  {
   "cell_type": "code",
   "execution_count": 13,
   "metadata": {},
   "outputs": [
    {
     "name": "stdout",
     "output_type": "stream",
     "text": [
      "Worm\n",
      "Worm\n",
      "Worm\n",
      "Worm\n",
      "Worm\n",
      "Worm\n",
      "Worm\n",
      "Worm\n",
      "Worm\n",
      "Worm\n",
      "Worm\n",
      "Worm\n",
      "Worm\n",
      "Worm\n",
      "Worm\n",
      "Worm\n",
      "Worm\n",
      "Worm\n",
      "Worm\n",
      "Worm\n",
      "Worm\n",
      "Worm\n",
      "Worm\n",
      "Worm\n",
      "Worm\n",
      "Worm\n",
      "Worm\n",
      "Worm\n",
      "Worm\n",
      "Worm\n",
      "Worm\n",
      "Worm\n",
      "Worm\n",
      "Worm\n",
      "Worm\n",
      "Trojan\n",
      "Trojan\n",
      "Trojan\n",
      "Trojan\n",
      "Trojan\n",
      "Trojan\n",
      "Trojan\n",
      "Trojan\n",
      "Trojan\n",
      "Trojan\n",
      "Trojan\n",
      "Trojan\n",
      "Trojan\n",
      "Trojan\n",
      "Trojan\n",
      "Trojan\n",
      "Trojan\n",
      "Trojan\n",
      "Trojan\n",
      "Trojan\n",
      "Trojan\n",
      "Trojan\n",
      "Trojan\n",
      "Trojan\n",
      "Trojan\n",
      "Trojan\n",
      "Trojan\n",
      "Trojan\n",
      "Trojan\n",
      "Trojan\n",
      "Trojan\n",
      "Trojan\n",
      "PUP\n",
      "PUP\n",
      "PUP\n",
      "PUP\n",
      "PUP\n",
      "PUP\n",
      "PUP\n",
      "PUP\n",
      "PUP\n",
      "PUP\n",
      "PUP\n",
      "PUP\n",
      "PUP\n",
      "PUP\n",
      "PUP\n",
      "PUP\n",
      "PUP\n",
      "PUP\n",
      "PUP,JXXXRMMMMVBHFFBBXXXJJMHEESKLJIIXXHKXJJXEHEDDFBXXIIXGHBBESEIJJEESKLJXXHKKIIJJXTHRBKIKJJMBPIKQRIILPEPHHHKJWPLIIRBHXXXUGFJJBHXXXRREQEQSEBEBBBEHLKDDJRHHHEFJJBHXXXFRIEMDDBBERDDDMOBAAMJKJKKKKRBRGXXIOMROOXXXXBHIRSEDDDDDHJXBBFRHHHEXXEDDDHSREEFDDDHHMIJMMXXXHKQHHHHBBMSDJHHHHHHHBBMHIXXXESOIEMMJOBMMSEESOOXHJBSERHXEHJBSERHEHXBSEJRJHBEHMXFBBHBBOBBBBBBBBBHHFBBEOBBBBBBOXXXHKFBHLSLLJJLJLBLJSLLJJLJLJSLSLSJHHHKRJSLHKMJKLLLSLJJJLSLXKJSSLLLHLSRHHLSHHJHLWJLXLSLLLJKHLLLSLLSLL\n"
     ]
    },
    {
     "ename": "IndexError",
     "evalue": "list index out of range",
     "output_type": "error",
     "traceback": [
      "\u001b[0;31m---------------------------------\u001b[0m",
      "\u001b[0;31mIndexError\u001b[0mTraceback (most recent call last)",
      "\u001b[0;32m<ipython-input-13-72c51cedc463>\u001b[0m in \u001b[0;36m<module>\u001b[0;34m\u001b[0m\n\u001b[1;32m      8\u001b[0m     \u001b[0mwf\u001b[0m\u001b[0;34m.\u001b[0m\u001b[0mwrite\u001b[0m\u001b[0;34m(\u001b[0m\u001b[0;34m\">reference_\"\u001b[0m\u001b[0;34m+\u001b[0m\u001b[0mfam\u001b[0m\u001b[0;34m+\u001b[0m\u001b[0;34m\"_\"\u001b[0m\u001b[0;34m+\u001b[0m\u001b[0mstr\u001b[0m\u001b[0;34m(\u001b[0m\u001b[0mcc\u001b[0m\u001b[0;34m)\u001b[0m\u001b[0;34m)\u001b[0m\u001b[0;34m\u001b[0m\u001b[0;34m\u001b[0m\u001b[0m\n\u001b[1;32m      9\u001b[0m     \u001b[0mwf\u001b[0m\u001b[0;34m.\u001b[0m\u001b[0mwrite\u001b[0m\u001b[0;34m(\u001b[0m\u001b[0;34m\"\\n\"\u001b[0m\u001b[0;34m)\u001b[0m\u001b[0;34m\u001b[0m\u001b[0;34m\u001b[0m\u001b[0m\n\u001b[0;32m---> 10\u001b[0;31m     \u001b[0mwf\u001b[0m\u001b[0;34m.\u001b[0m\u001b[0mwrite\u001b[0m\u001b[0;34m(\u001b[0m\u001b[0ma\u001b[0m\u001b[0;34m[\u001b[0m\u001b[0;36m1\u001b[0m\u001b[0;34m]\u001b[0m\u001b[0;34m)\u001b[0m\u001b[0;34m\u001b[0m\u001b[0;34m\u001b[0m\u001b[0m\n\u001b[0m\u001b[1;32m     11\u001b[0m     \u001b[0mwf\u001b[0m\u001b[0;34m.\u001b[0m\u001b[0mwrite\u001b[0m\u001b[0;34m(\u001b[0m\u001b[0;34m\"\\n\"\u001b[0m\u001b[0;34m)\u001b[0m\u001b[0;34m\u001b[0m\u001b[0;34m\u001b[0m\u001b[0m\n\u001b[1;32m     12\u001b[0m     \u001b[0mcc\u001b[0m\u001b[0;34m+=\u001b[0m\u001b[0;36m1\u001b[0m\u001b[0;34m\u001b[0m\u001b[0;34m\u001b[0m\u001b[0m\n",
      "\u001b[0;31mIndexError\u001b[0m: list index out of range"
     ]
    }
   ],
   "source": [
    "wf=open(\"relevant_fasta.txt\",\"w\")\n",
    "cc=1\n",
    "for a in aa:\n",
    "    a=a.rstrip()\n",
    "    a=a.split(\"\\t\")\n",
    "    print(a)\n",
    "    fam=a[0]\n",
    "    print(fam)\n",
    "    wf.write(\">reference_\"+fam+\"_\"+str(cc))\n",
    "    wf.write(\"\\n\")\n",
    "    wf.write(a[1])\n",
    "    wf.write(\"\\n\")\n",
    "    cc+=1\n",
    "wf.close()"
   ]
  },
  {
   "cell_type": "code",
   "execution_count": null,
   "metadata": {},
   "outputs": [],
   "source": []
  }
 ],
 "metadata": {
  "kernelspec": {
   "display_name": "Python 3",
   "language": "python",
   "name": "python3"
  },
  "language_info": {
   "codemirror_mode": {
    "name": "ipython",
    "version": 3
   },
   "file_extension": ".py",
   "mimetype": "text/x-python",
   "name": "python",
   "nbconvert_exporter": "python",
   "pygments_lexer": "ipython3",
   "version": "3.8.5"
  }
 },
 "nbformat": 4,
 "nbformat_minor": 4
}
